{
 "cells": [
  {
   "cell_type": "markdown",
   "metadata": {
    "id": "EOzEGshUNbnu"
   },
   "source": [
    "# Importing required packages"
   ]
  },
  {
   "cell_type": "code",
   "execution_count": 3,
   "metadata": {
    "id": "fs9FTASpafgw"
   },
   "outputs": [],
   "source": [
    "import pandas as pd\n",
    "import matplotlib.pyplot as plt\n",
    "import seaborn as sns"
   ]
  },
  {
   "cell_type": "markdown",
   "metadata": {
    "id": "ytDJ86gBNhqs"
   },
   "source": [
    "# Dataset used for prototyping"
   ]
  },
  {
   "cell_type": "markdown",
   "metadata": {
    "id": "jAdA1OSsNucQ"
   },
   "source": [
    "All the following work must be adjusted to the correct data format, as well as converted to scripts for better handling."
   ]
  },
  {
   "cell_type": "code",
   "execution_count": 4,
   "metadata": {
    "id": "XPc_5xtNbeMW"
   },
   "outputs": [],
   "source": [
    "dataset = pd.read_csv('accounts_payable_2020.csv')"
   ]
  },
  {
   "cell_type": "code",
   "execution_count": 5,
   "metadata": {
    "id": "AUxHsHTfDH4h"
   },
   "outputs": [
    {
     "data": {
      "text/html": [
       "<div>\n",
       "<style scoped>\n",
       "    .dataframe tbody tr th:only-of-type {\n",
       "        vertical-align: middle;\n",
       "    }\n",
       "\n",
       "    .dataframe tbody tr th {\n",
       "        vertical-align: top;\n",
       "    }\n",
       "\n",
       "    .dataframe thead th {\n",
       "        text-align: right;\n",
       "    }\n",
       "</style>\n",
       "<table border=\"1\" class=\"dataframe\">\n",
       "  <thead>\n",
       "    <tr style=\"text-align: right;\">\n",
       "      <th></th>\n",
       "      <th>vendor_name</th>\n",
       "      <th>transaction_date</th>\n",
       "      <th>transaction_amount</th>\n",
       "      <th>organization_code</th>\n",
       "      <th>fund</th>\n",
       "      <th>fund_desc</th>\n",
       "      <th>department</th>\n",
       "      <th>department_desc</th>\n",
       "      <th>object_code</th>\n",
       "      <th>account_description</th>\n",
       "    </tr>\n",
       "  </thead>\n",
       "  <tbody>\n",
       "    <tr>\n",
       "      <th>0</th>\n",
       "      <td>JANE KENNEDY</td>\n",
       "      <td>10/07/2020</td>\n",
       "      <td>78.88</td>\n",
       "      <td>51523032</td>\n",
       "      <td>2300</td>\n",
       "      <td>Recreation Activity</td>\n",
       "      <td>515</td>\n",
       "      <td>Parks and Recreation</td>\n",
       "      <td>710500</td>\n",
       "      <td>Business Travel</td>\n",
       "    </tr>\n",
       "    <tr>\n",
       "      <th>1</th>\n",
       "      <td>PAMELA AUBRY</td>\n",
       "      <td>05/07/2020</td>\n",
       "      <td>41.40</td>\n",
       "      <td>13510010</td>\n",
       "      <td>1100</td>\n",
       "      <td>General</td>\n",
       "      <td>135</td>\n",
       "      <td>Municipal Court</td>\n",
       "      <td>710500</td>\n",
       "      <td>Business Travel</td>\n",
       "    </tr>\n",
       "    <tr>\n",
       "      <th>2</th>\n",
       "      <td>DAVID SUTHERLAND</td>\n",
       "      <td>04/15/2020</td>\n",
       "      <td>88.55</td>\n",
       "      <td>55520270</td>\n",
       "      <td>2500</td>\n",
       "      <td>Open Space</td>\n",
       "      <td>555</td>\n",
       "      <td>Open Space &amp; Mountain Parks</td>\n",
       "      <td>710500</td>\n",
       "      <td>Business Travel</td>\n",
       "    </tr>\n",
       "    <tr>\n",
       "      <th>3</th>\n",
       "      <td>JAMES C. BISH JR</td>\n",
       "      <td>02/19/2020</td>\n",
       "      <td>111.09</td>\n",
       "      <td>38020010</td>\n",
       "      <td>2120</td>\n",
       "      <td>Planning and Development Svc</td>\n",
       "      <td>380</td>\n",
       "      <td>PW-Development</td>\n",
       "      <td>710515</td>\n",
       "      <td>Empl Training</td>\n",
       "    </tr>\n",
       "    <tr>\n",
       "      <th>4</th>\n",
       "      <td>JACOB ALBERT JACOBS</td>\n",
       "      <td>02/05/2020</td>\n",
       "      <td>852.60</td>\n",
       "      <td>51523020</td>\n",
       "      <td>2300</td>\n",
       "      <td>Recreation Activity</td>\n",
       "      <td>515</td>\n",
       "      <td>Parks and Recreation</td>\n",
       "      <td>710515</td>\n",
       "      <td>Empl Training</td>\n",
       "    </tr>\n",
       "  </tbody>\n",
       "</table>\n",
       "</div>"
      ],
      "text/plain": [
       "           vendor_name transaction_date  transaction_amount  \\\n",
       "0         JANE KENNEDY       10/07/2020               78.88   \n",
       "1         PAMELA AUBRY       05/07/2020               41.40   \n",
       "2     DAVID SUTHERLAND       04/15/2020               88.55   \n",
       "3     JAMES C. BISH JR       02/19/2020              111.09   \n",
       "4  JACOB ALBERT JACOBS       02/05/2020              852.60   \n",
       "\n",
       "   organization_code  fund                     fund_desc  department  \\\n",
       "0           51523032  2300           Recreation Activity         515   \n",
       "1           13510010  1100                       General         135   \n",
       "2           55520270  2500                    Open Space         555   \n",
       "3           38020010  2120  Planning and Development Svc         380   \n",
       "4           51523020  2300           Recreation Activity         515   \n",
       "\n",
       "               department_desc  object_code account_description  \n",
       "0         Parks and Recreation       710500     Business Travel  \n",
       "1              Municipal Court       710500     Business Travel  \n",
       "2  Open Space & Mountain Parks       710500     Business Travel  \n",
       "3               PW-Development       710515       Empl Training  \n",
       "4         Parks and Recreation       710515       Empl Training  "
      ]
     },
     "execution_count": 5,
     "metadata": {},
     "output_type": "execute_result"
    }
   ],
   "source": [
    "dataset.head()"
   ]
  },
  {
   "cell_type": "markdown",
   "metadata": {},
   "source": [
    "# Dataset adaptation"
   ]
  },
  {
   "cell_type": "code",
   "execution_count": 29,
   "metadata": {},
   "outputs": [],
   "source": [
    "dataset.columns = ['company_seller_name','doc_emission_date','total_value','rm1','rm2','rm3','rm4','tag','rm5','category']"
   ]
  },
  {
   "cell_type": "code",
   "execution_count": 32,
   "metadata": {},
   "outputs": [],
   "source": [
    "from random import choice\n",
    "tags = ['Jantar Natal 2020','Viagem BTB','Despesas Com1','Despesas Com2','','','','','']\n",
    "dataset['tag'] = dataset['tag'].apply(lambda t: choice(tags))"
   ]
  },
  {
   "cell_type": "code",
   "execution_count": 21,
   "metadata": {
    "scrolled": true
   },
   "outputs": [
    {
     "data": {
      "text/html": [
       "<div>\n",
       "<style scoped>\n",
       "    .dataframe tbody tr th:only-of-type {\n",
       "        vertical-align: middle;\n",
       "    }\n",
       "\n",
       "    .dataframe tbody tr th {\n",
       "        vertical-align: top;\n",
       "    }\n",
       "\n",
       "    .dataframe thead th {\n",
       "        text-align: right;\n",
       "    }\n",
       "</style>\n",
       "<table border=\"1\" class=\"dataframe\">\n",
       "  <thead>\n",
       "    <tr style=\"text-align: right;\">\n",
       "      <th></th>\n",
       "      <th>company_seller_name</th>\n",
       "      <th>doc_emission_date</th>\n",
       "      <th>total_value</th>\n",
       "      <th>id_document</th>\n",
       "      <th>rm2</th>\n",
       "      <th>rm3</th>\n",
       "      <th>rm4</th>\n",
       "      <th>tag</th>\n",
       "      <th>rm5</th>\n",
       "      <th>category</th>\n",
       "    </tr>\n",
       "  </thead>\n",
       "  <tbody>\n",
       "    <tr>\n",
       "      <th>0</th>\n",
       "      <td>PARKS &amp; GARDENS LLC</td>\n",
       "      <td>01/01/2020</td>\n",
       "      <td>11665.30</td>\n",
       "      <td>61055020</td>\n",
       "      <td>6100</td>\n",
       "      <td>Water Utility</td>\n",
       "      <td>610</td>\n",
       "      <td>Viagem BTB</td>\n",
       "      <td>670395</td>\n",
       "      <td>Misc Purchased Services</td>\n",
       "    </tr>\n",
       "    <tr>\n",
       "      <th>1</th>\n",
       "      <td>KW ASSOCIATES INC</td>\n",
       "      <td>01/01/2020</td>\n",
       "      <td>76.19</td>\n",
       "      <td>38540010</td>\n",
       "      <td>2120</td>\n",
       "      <td>Planning and Development Svc</td>\n",
       "      <td>385</td>\n",
       "      <td>Jantar Natal 2020</td>\n",
       "      <td>620118</td>\n",
       "      <td>Postage and Express Mail</td>\n",
       "    </tr>\n",
       "    <tr>\n",
       "      <th>2</th>\n",
       "      <td>PUREWATER DYNAMICS INC</td>\n",
       "      <td>01/01/2020</td>\n",
       "      <td>77.00</td>\n",
       "      <td>31510040</td>\n",
       "      <td>1100</td>\n",
       "      <td>General</td>\n",
       "      <td>315</td>\n",
       "      <td>Despesas Com1</td>\n",
       "      <td>700495</td>\n",
       "      <td>Misc Rentals &amp; Leases</td>\n",
       "    </tr>\n",
       "    <tr>\n",
       "      <th>3</th>\n",
       "      <td>WESTERN DISPOSAL INC</td>\n",
       "      <td>01/01/2020</td>\n",
       "      <td>79.05</td>\n",
       "      <td>31510070</td>\n",
       "      <td>1100</td>\n",
       "      <td>General</td>\n",
       "      <td>315</td>\n",
       "      <td>Jantar Natal 2020</td>\n",
       "      <td>670055</td>\n",
       "      <td>Solid Waste Management Fees</td>\n",
       "    </tr>\n",
       "    <tr>\n",
       "      <th>4</th>\n",
       "      <td>ALLIANCE FOR WATER EFFICIENCY</td>\n",
       "      <td>01/01/2020</td>\n",
       "      <td>1000.00</td>\n",
       "      <td>61010060</td>\n",
       "      <td>6100</td>\n",
       "      <td>Water Utility</td>\n",
       "      <td>610</td>\n",
       "      <td>Jantar Natal 2020</td>\n",
       "      <td>710505</td>\n",
       "      <td>Empl Dues, Mbr, Lic, and Certs</td>\n",
       "    </tr>\n",
       "  </tbody>\n",
       "</table>\n",
       "</div>"
      ],
      "text/plain": [
       "             company_seller_name doc_emission_date  total_value  id_document  \\\n",
       "0            PARKS & GARDENS LLC        01/01/2020     11665.30     61055020   \n",
       "1              KW ASSOCIATES INC        01/01/2020        76.19     38540010   \n",
       "2         PUREWATER DYNAMICS INC        01/01/2020        77.00     31510040   \n",
       "3           WESTERN DISPOSAL INC        01/01/2020        79.05     31510070   \n",
       "4  ALLIANCE FOR WATER EFFICIENCY        01/01/2020      1000.00     61010060   \n",
       "\n",
       "    rm2                           rm3  rm4                tag     rm5  \\\n",
       "0  6100                 Water Utility  610         Viagem BTB  670395   \n",
       "1  2120  Planning and Development Svc  385  Jantar Natal 2020  620118   \n",
       "2  1100                       General  315      Despesas Com1  700495   \n",
       "3  1100                       General  315  Jantar Natal 2020  670055   \n",
       "4  6100                 Water Utility  610  Jantar Natal 2020  710505   \n",
       "\n",
       "                         category  \n",
       "0         Misc Purchased Services  \n",
       "1        Postage and Express Mail  \n",
       "2           Misc Rentals & Leases  \n",
       "3     Solid Waste Management Fees  \n",
       "4  Empl Dues, Mbr, Lic, and Certs  "
      ]
     },
     "execution_count": 21,
     "metadata": {},
     "output_type": "execute_result"
    }
   ],
   "source": [
    "dataset = dataset.sort_values('doc_emission_date')\n",
    "dataset = dataset.reset_index(drop=True)\n",
    "dataset.head()"
   ]
  },
  {
   "cell_type": "code",
   "execution_count": 31,
   "metadata": {},
   "outputs": [
    {
     "data": {
      "text/html": [
       "<div>\n",
       "<style scoped>\n",
       "    .dataframe tbody tr th:only-of-type {\n",
       "        vertical-align: middle;\n",
       "    }\n",
       "\n",
       "    .dataframe tbody tr th {\n",
       "        vertical-align: top;\n",
       "    }\n",
       "\n",
       "    .dataframe thead th {\n",
       "        text-align: right;\n",
       "    }\n",
       "</style>\n",
       "<table border=\"1\" class=\"dataframe\">\n",
       "  <thead>\n",
       "    <tr style=\"text-align: right;\">\n",
       "      <th></th>\n",
       "      <th>company_seller_name</th>\n",
       "      <th>doc_emission_date</th>\n",
       "      <th>total_value</th>\n",
       "      <th>tag</th>\n",
       "      <th>category</th>\n",
       "    </tr>\n",
       "  </thead>\n",
       "  <tbody>\n",
       "    <tr>\n",
       "      <th>0</th>\n",
       "      <td>PARKS &amp; GARDENS LLC</td>\n",
       "      <td>01/01/2020</td>\n",
       "      <td>11665.30</td>\n",
       "      <td>Viagem BTB</td>\n",
       "      <td>Misc Purchased Services</td>\n",
       "    </tr>\n",
       "    <tr>\n",
       "      <th>1</th>\n",
       "      <td>KW ASSOCIATES INC</td>\n",
       "      <td>01/01/2020</td>\n",
       "      <td>76.19</td>\n",
       "      <td>Jantar Natal 2020</td>\n",
       "      <td>Postage and Express Mail</td>\n",
       "    </tr>\n",
       "    <tr>\n",
       "      <th>2</th>\n",
       "      <td>PUREWATER DYNAMICS INC</td>\n",
       "      <td>01/01/2020</td>\n",
       "      <td>77.00</td>\n",
       "      <td>Despesas Com1</td>\n",
       "      <td>Misc Rentals &amp; Leases</td>\n",
       "    </tr>\n",
       "    <tr>\n",
       "      <th>3</th>\n",
       "      <td>WESTERN DISPOSAL INC</td>\n",
       "      <td>01/01/2020</td>\n",
       "      <td>79.05</td>\n",
       "      <td>Jantar Natal 2020</td>\n",
       "      <td>Solid Waste Management Fees</td>\n",
       "    </tr>\n",
       "    <tr>\n",
       "      <th>4</th>\n",
       "      <td>ALLIANCE FOR WATER EFFICIENCY</td>\n",
       "      <td>01/01/2020</td>\n",
       "      <td>1000.00</td>\n",
       "      <td>Jantar Natal 2020</td>\n",
       "      <td>Empl Dues, Mbr, Lic, and Certs</td>\n",
       "    </tr>\n",
       "  </tbody>\n",
       "</table>\n",
       "</div>"
      ],
      "text/plain": [
       "             company_seller_name doc_emission_date  total_value  \\\n",
       "0            PARKS & GARDENS LLC        01/01/2020     11665.30   \n",
       "1              KW ASSOCIATES INC        01/01/2020        76.19   \n",
       "2         PUREWATER DYNAMICS INC        01/01/2020        77.00   \n",
       "3           WESTERN DISPOSAL INC        01/01/2020        79.05   \n",
       "4  ALLIANCE FOR WATER EFFICIENCY        01/01/2020      1000.00   \n",
       "\n",
       "                 tag                        category  \n",
       "0         Viagem BTB         Misc Purchased Services  \n",
       "1  Jantar Natal 2020        Postage and Express Mail  \n",
       "2      Despesas Com1           Misc Rentals & Leases  \n",
       "3  Jantar Natal 2020     Solid Waste Management Fees  \n",
       "4  Jantar Natal 2020  Empl Dues, Mbr, Lic, and Certs  "
      ]
     },
     "execution_count": 31,
     "metadata": {},
     "output_type": "execute_result"
    }
   ],
   "source": [
    "dataset = dataset.drop(['rm2','rm3','rm4','rm5','rm1'], axis=1)\n",
    "dataset.head()"
   ]
  },
  {
   "cell_type": "code",
   "execution_count": 34,
   "metadata": {
    "colab": {
     "base_uri": "https://localhost:8080/",
     "height": 309
    },
    "id": "p2_ghVm5dhlR",
    "outputId": "572bca3a-bfff-4fdb-9973-bfbf3a80ae61"
   },
   "outputs": [
    {
     "data": {
      "text/html": [
       "<div>\n",
       "<style scoped>\n",
       "    .dataframe tbody tr th:only-of-type {\n",
       "        vertical-align: middle;\n",
       "    }\n",
       "\n",
       "    .dataframe tbody tr th {\n",
       "        vertical-align: top;\n",
       "    }\n",
       "\n",
       "    .dataframe thead th {\n",
       "        text-align: right;\n",
       "    }\n",
       "</style>\n",
       "<table border=\"1\" class=\"dataframe\">\n",
       "  <thead>\n",
       "    <tr style=\"text-align: right;\">\n",
       "      <th></th>\n",
       "      <th>company_seller_name</th>\n",
       "      <th>doc_emission_date</th>\n",
       "      <th>total_value</th>\n",
       "      <th>tag</th>\n",
       "      <th>category</th>\n",
       "      <th>id_document</th>\n",
       "    </tr>\n",
       "  </thead>\n",
       "  <tbody>\n",
       "    <tr>\n",
       "      <th>24431</th>\n",
       "      <td>KEENE CONCRETE INC</td>\n",
       "      <td>10/21/2020</td>\n",
       "      <td>4766.58</td>\n",
       "      <td></td>\n",
       "      <td>Retainage Payable</td>\n",
       "      <td>FT 20/024431</td>\n",
       "    </tr>\n",
       "    <tr>\n",
       "      <th>24432</th>\n",
       "      <td>ANDALE CONSTRUCTION INC</td>\n",
       "      <td>10/21/2020</td>\n",
       "      <td>6012.21</td>\n",
       "      <td></td>\n",
       "      <td>Retainage Payable</td>\n",
       "      <td>FT 20/024432</td>\n",
       "    </tr>\n",
       "    <tr>\n",
       "      <th>24433</th>\n",
       "      <td>KEENE CONCRETE INC</td>\n",
       "      <td>10/21/2020</td>\n",
       "      <td>5549.51</td>\n",
       "      <td>Jantar Natal 2020</td>\n",
       "      <td>Retainage Payable</td>\n",
       "      <td>FT 20/024433</td>\n",
       "    </tr>\n",
       "    <tr>\n",
       "      <th>24434</th>\n",
       "      <td>KEENE CONCRETE INC</td>\n",
       "      <td>10/21/2020</td>\n",
       "      <td>327.50</td>\n",
       "      <td></td>\n",
       "      <td>Retainage Payable</td>\n",
       "      <td>FT 20/024434</td>\n",
       "    </tr>\n",
       "    <tr>\n",
       "      <th>24435</th>\n",
       "      <td>AMERESCO, INC.</td>\n",
       "      <td>10/21/2020</td>\n",
       "      <td>32433.99</td>\n",
       "      <td>Despesas Com2</td>\n",
       "      <td>Retainage Payable</td>\n",
       "      <td>FT 20/024435</td>\n",
       "    </tr>\n",
       "  </tbody>\n",
       "</table>\n",
       "</div>"
      ],
      "text/plain": [
       "           company_seller_name doc_emission_date  total_value  \\\n",
       "24431       KEENE CONCRETE INC        10/21/2020      4766.58   \n",
       "24432  ANDALE CONSTRUCTION INC        10/21/2020      6012.21   \n",
       "24433       KEENE CONCRETE INC        10/21/2020      5549.51   \n",
       "24434       KEENE CONCRETE INC        10/21/2020       327.50   \n",
       "24435           AMERESCO, INC.        10/21/2020     32433.99   \n",
       "\n",
       "                     tag           category   id_document  \n",
       "24431                     Retainage Payable  FT 20/024431  \n",
       "24432                     Retainage Payable  FT 20/024432  \n",
       "24433  Jantar Natal 2020  Retainage Payable  FT 20/024433  \n",
       "24434                     Retainage Payable  FT 20/024434  \n",
       "24435      Despesas Com2  Retainage Payable  FT 20/024435  "
      ]
     },
     "execution_count": 34,
     "metadata": {},
     "output_type": "execute_result"
    }
   ],
   "source": [
    "doc_id_template = \"FT 20/{:06d}\"\n",
    "\n",
    "i = 0\n",
    "for index, row in dataset.iterrows():\n",
    "    dataset.at[index,'id_document'] = doc_id_template.format(i)\n",
    "    i += 1\n",
    "dataset.tail()"
   ]
  },
  {
   "cell_type": "code",
   "execution_count": 35,
   "metadata": {},
   "outputs": [],
   "source": [
    "dataset.to_csv('accounts_payable_2020_adapted.csv',index=True)"
   ]
  },
  {
   "cell_type": "markdown",
   "metadata": {
    "id": "gRFQrW2bzuDO"
   },
   "source": [
    "# Adjust data per Semester"
   ]
  },
  {
   "cell_type": "markdown",
   "metadata": {
    "id": "4kwBYBpj07J7"
   },
   "source": [
    "## Monthly Adjusted"
   ]
  },
  {
   "cell_type": "code",
   "execution_count": null,
   "metadata": {
    "id": "c2JZDBL109cS"
   },
   "outputs": [],
   "source": [
    "#%%timeit\n",
    "\n",
    "from datetime import datetime\n",
    "\n",
    "dataset_monthly = dataset\n",
    "\n",
    "for i, row in dataset_monthly.iterrows():\n",
    "    ifor_val = datetime.strptime(row['transaction_date'], '%m/%d/%Y').month\n",
    "    dataset_monthly.at[i,'month'] = ifor_val\n",
    "\n",
    "dataset_monthly.head()"
   ]
  },
  {
   "cell_type": "code",
   "execution_count": null,
   "metadata": {
    "id": "C8S7rw934S_Q"
   },
   "outputs": [],
   "source": [
    "#%%timeit\n",
    "\n",
    "dataset_monthly = dataset\n",
    "dataset_monthly['month'] = dataset_monthly.apply(lambda row: datetime.strptime(row['transaction_date'], '%m/%d/%Y').month, axis=1)\n",
    "dataset_monthly.head()"
   ]
  },
  {
   "cell_type": "code",
   "execution_count": 101,
   "metadata": {
    "colab": {
     "base_uri": "https://localhost:8080/",
     "height": 343
    },
    "id": "CFOLYQ_80T_a",
    "outputId": "25634f10-5a9d-405d-c069-3f12854bcd52"
   },
   "outputs": [
    {
     "data": {
      "text/html": [
       "<div>\n",
       "<style scoped>\n",
       "    .dataframe tbody tr th:only-of-type {\n",
       "        vertical-align: middle;\n",
       "    }\n",
       "\n",
       "    .dataframe tbody tr th {\n",
       "        vertical-align: top;\n",
       "    }\n",
       "\n",
       "    .dataframe thead th {\n",
       "        text-align: right;\n",
       "    }\n",
       "</style>\n",
       "<table border=\"1\" class=\"dataframe\">\n",
       "  <thead>\n",
       "    <tr style=\"text-align: right;\">\n",
       "      <th></th>\n",
       "      <th>vendor_name</th>\n",
       "      <th>transaction_date</th>\n",
       "      <th>transaction_amount</th>\n",
       "      <th>nif</th>\n",
       "      <th>fund</th>\n",
       "      <th>fund_desc</th>\n",
       "      <th>department</th>\n",
       "      <th>department_desc</th>\n",
       "      <th>object_code</th>\n",
       "      <th>account_description</th>\n",
       "      <th>invoice_number</th>\n",
       "      <th>month</th>\n",
       "      <th>biannual_period</th>\n",
       "    </tr>\n",
       "  </thead>\n",
       "  <tbody>\n",
       "    <tr>\n",
       "      <th>0</th>\n",
       "      <td>JANE KENNEDY</td>\n",
       "      <td>10/07/2020</td>\n",
       "      <td>78.88</td>\n",
       "      <td>51523032</td>\n",
       "      <td>2300</td>\n",
       "      <td>Recreation Activity</td>\n",
       "      <td>515</td>\n",
       "      <td>Parks and Recreation</td>\n",
       "      <td>710500</td>\n",
       "      <td>Business Travel</td>\n",
       "      <td>1000</td>\n",
       "      <td>10</td>\n",
       "      <td>1</td>\n",
       "    </tr>\n",
       "    <tr>\n",
       "      <th>1</th>\n",
       "      <td>PAMELA AUBRY</td>\n",
       "      <td>05/07/2020</td>\n",
       "      <td>41.40</td>\n",
       "      <td>13510010</td>\n",
       "      <td>1100</td>\n",
       "      <td>General</td>\n",
       "      <td>135</td>\n",
       "      <td>Municipal Court</td>\n",
       "      <td>710500</td>\n",
       "      <td>Business Travel</td>\n",
       "      <td>1001</td>\n",
       "      <td>5</td>\n",
       "      <td>0</td>\n",
       "    </tr>\n",
       "    <tr>\n",
       "      <th>2</th>\n",
       "      <td>DAVID SUTHERLAND</td>\n",
       "      <td>04/15/2020</td>\n",
       "      <td>88.55</td>\n",
       "      <td>55520270</td>\n",
       "      <td>2500</td>\n",
       "      <td>Open Space</td>\n",
       "      <td>555</td>\n",
       "      <td>Open Space &amp; Mountain Parks</td>\n",
       "      <td>710500</td>\n",
       "      <td>Business Travel</td>\n",
       "      <td>1002</td>\n",
       "      <td>4</td>\n",
       "      <td>0</td>\n",
       "    </tr>\n",
       "    <tr>\n",
       "      <th>3</th>\n",
       "      <td>JAMES C. BISH JR</td>\n",
       "      <td>02/19/2020</td>\n",
       "      <td>111.09</td>\n",
       "      <td>38020010</td>\n",
       "      <td>2120</td>\n",
       "      <td>Planning and Development Svc</td>\n",
       "      <td>380</td>\n",
       "      <td>PW-Development</td>\n",
       "      <td>710515</td>\n",
       "      <td>Empl Training</td>\n",
       "      <td>1003</td>\n",
       "      <td>2</td>\n",
       "      <td>0</td>\n",
       "    </tr>\n",
       "    <tr>\n",
       "      <th>4</th>\n",
       "      <td>JACOB ALBERT JACOBS</td>\n",
       "      <td>02/05/2020</td>\n",
       "      <td>852.60</td>\n",
       "      <td>51523020</td>\n",
       "      <td>2300</td>\n",
       "      <td>Recreation Activity</td>\n",
       "      <td>515</td>\n",
       "      <td>Parks and Recreation</td>\n",
       "      <td>710515</td>\n",
       "      <td>Empl Training</td>\n",
       "      <td>1004</td>\n",
       "      <td>2</td>\n",
       "      <td>0</td>\n",
       "    </tr>\n",
       "  </tbody>\n",
       "</table>\n",
       "</div>"
      ],
      "text/plain": [
       "           vendor_name transaction_date  ...  month  biannual_period\n",
       "0         JANE KENNEDY       10/07/2020  ...     10                1\n",
       "1         PAMELA AUBRY       05/07/2020  ...      5                0\n",
       "2     DAVID SUTHERLAND       04/15/2020  ...      4                0\n",
       "3     JAMES C. BISH JR       02/19/2020  ...      2                0\n",
       "4  JACOB ALBERT JACOBS       02/05/2020  ...      2                0\n",
       "\n",
       "[5 rows x 13 columns]"
      ]
     },
     "execution_count": 101,
     "metadata": {
      "tags": []
     },
     "output_type": "execute_result"
    }
   ],
   "source": [
    "#%%timeit\n",
    "# More efficient way\n",
    "\n",
    "dataset_monthly = dataset.copy()\n",
    "dataset_monthly['month'] = pd.to_datetime(dataset_monthly.transaction_date)\n",
    "dataset_monthly['month'] = dataset_monthly['month'].dt.strftime('%-m')\n",
    "dataset_monthly.head()"
   ]
  },
  {
   "cell_type": "markdown",
   "metadata": {
    "id": "LT7ubyzX5Lx_"
   },
   "source": [
    "## Biannual Adjusted"
   ]
  },
  {
   "cell_type": "markdown",
   "metadata": {
    "id": "aJ9aQAbv-g-v"
   },
   "source": [
    "May require more work, depending **if the biannual starts at different timings than the default and presumed** January 1st and July 1st."
   ]
  },
  {
   "cell_type": "code",
   "execution_count": 85,
   "metadata": {
    "colab": {
     "base_uri": "https://localhost:8080/",
     "height": 309
    },
    "id": "2LHPYhg-5Ny2",
    "outputId": "705376a7-f281-415f-c532-561a281db8cf"
   },
   "outputs": [
    {
     "data": {
      "text/html": [
       "<div>\n",
       "<style scoped>\n",
       "    .dataframe tbody tr th:only-of-type {\n",
       "        vertical-align: middle;\n",
       "    }\n",
       "\n",
       "    .dataframe tbody tr th {\n",
       "        vertical-align: top;\n",
       "    }\n",
       "\n",
       "    .dataframe thead th {\n",
       "        text-align: right;\n",
       "    }\n",
       "</style>\n",
       "<table border=\"1\" class=\"dataframe\">\n",
       "  <thead>\n",
       "    <tr style=\"text-align: right;\">\n",
       "      <th></th>\n",
       "      <th>vendor_name</th>\n",
       "      <th>transaction_date</th>\n",
       "      <th>transaction_amount</th>\n",
       "      <th>nif</th>\n",
       "      <th>fund</th>\n",
       "      <th>fund_desc</th>\n",
       "      <th>department</th>\n",
       "      <th>department_desc</th>\n",
       "      <th>object_code</th>\n",
       "      <th>account_description</th>\n",
       "      <th>invoice_number</th>\n",
       "      <th>month</th>\n",
       "      <th>biannual_period</th>\n",
       "    </tr>\n",
       "  </thead>\n",
       "  <tbody>\n",
       "    <tr>\n",
       "      <th>24431</th>\n",
       "      <td>FOOD TAX REBATE</td>\n",
       "      <td>09/24/2020</td>\n",
       "      <td>87.0</td>\n",
       "      <td>110000</td>\n",
       "      <td>1100</td>\n",
       "      <td>General</td>\n",
       "      <td>0</td>\n",
       "      <td>NaN</td>\n",
       "      <td>401130</td>\n",
       "      <td>Food Tax Refunds</td>\n",
       "      <td>25431</td>\n",
       "      <td>9</td>\n",
       "      <td>1</td>\n",
       "    </tr>\n",
       "    <tr>\n",
       "      <th>24432</th>\n",
       "      <td>FOOD TAX REBATE</td>\n",
       "      <td>09/28/2020</td>\n",
       "      <td>2456.0</td>\n",
       "      <td>110000</td>\n",
       "      <td>1100</td>\n",
       "      <td>General</td>\n",
       "      <td>0</td>\n",
       "      <td>NaN</td>\n",
       "      <td>401130</td>\n",
       "      <td>Food Tax Refunds</td>\n",
       "      <td>25432</td>\n",
       "      <td>9</td>\n",
       "      <td>1</td>\n",
       "    </tr>\n",
       "    <tr>\n",
       "      <th>24433</th>\n",
       "      <td>FOOD TAX REBATE</td>\n",
       "      <td>09/29/2020</td>\n",
       "      <td>526.0</td>\n",
       "      <td>110000</td>\n",
       "      <td>1100</td>\n",
       "      <td>General</td>\n",
       "      <td>0</td>\n",
       "      <td>NaN</td>\n",
       "      <td>401130</td>\n",
       "      <td>Food Tax Refunds</td>\n",
       "      <td>25433</td>\n",
       "      <td>9</td>\n",
       "      <td>1</td>\n",
       "    </tr>\n",
       "    <tr>\n",
       "      <th>24434</th>\n",
       "      <td>FOOD TAX REBATE</td>\n",
       "      <td>10/01/2020</td>\n",
       "      <td>2713.0</td>\n",
       "      <td>110000</td>\n",
       "      <td>1100</td>\n",
       "      <td>General</td>\n",
       "      <td>0</td>\n",
       "      <td>NaN</td>\n",
       "      <td>401130</td>\n",
       "      <td>Food Tax Refunds</td>\n",
       "      <td>25434</td>\n",
       "      <td>10</td>\n",
       "      <td>1</td>\n",
       "    </tr>\n",
       "    <tr>\n",
       "      <th>24435</th>\n",
       "      <td>FOOD TAX REBATE</td>\n",
       "      <td>10/05/2020</td>\n",
       "      <td>1313.0</td>\n",
       "      <td>110000</td>\n",
       "      <td>1100</td>\n",
       "      <td>General</td>\n",
       "      <td>0</td>\n",
       "      <td>NaN</td>\n",
       "      <td>401130</td>\n",
       "      <td>Food Tax Refunds</td>\n",
       "      <td>25435</td>\n",
       "      <td>10</td>\n",
       "      <td>1</td>\n",
       "    </tr>\n",
       "  </tbody>\n",
       "</table>\n",
       "</div>"
      ],
      "text/plain": [
       "                vendor_name transaction_date  ...  month  biannual_period\n",
       "24431  FOOD TAX REBATE            09/24/2020  ...      9                1\n",
       "24432  FOOD TAX REBATE            09/28/2020  ...      9                1\n",
       "24433  FOOD TAX REBATE            09/29/2020  ...      9                1\n",
       "24434  FOOD TAX REBATE            10/01/2020  ...     10                1\n",
       "24435  FOOD TAX REBATE            10/05/2020  ...     10                1\n",
       "\n",
       "[5 rows x 13 columns]"
      ]
     },
     "execution_count": 85,
     "metadata": {
      "tags": []
     },
     "output_type": "execute_result"
    }
   ],
   "source": [
    "dataset_biannual = dataset.copy()\n",
    "dataset_biannual['biannual_period'] = pd.to_datetime(dataset_biannual.transaction_date)\n",
    "dataset_biannual['biannual_period'] = dataset_biannual['biannual_period'].dt.strftime('%-m')\n",
    "dataset_biannual['biannual_period'] = dataset_biannual.apply(lambda row: 0 if int(row['biannual_period']) <= 5 else 1, axis=1)\n",
    "dataset_biannual.tail()"
   ]
  },
  {
   "cell_type": "markdown",
   "metadata": {
    "id": "hzckB33DE8BY"
   },
   "source": [
    "## Quartely Adjusted"
   ]
  },
  {
   "cell_type": "markdown",
   "metadata": {
    "id": "hloSYytoFDbn"
   },
   "source": [
    "Same rule as before applies. If the timelines are different than the standard, the conditions must be updated."
   ]
  },
  {
   "cell_type": "code",
   "execution_count": null,
   "metadata": {
    "id": "nPAWROfsE_xu"
   },
   "outputs": [],
   "source": [
    "def quaterly_adjust(row):\n",
    "  m = int(row['quarterly_period'])\n",
    "  if m <= 2:\n",
    "    return 0\n",
    "  elif m <= 5:\n",
    "    return 1\n",
    "  elif m <= 8:\n",
    "    return 2\n",
    "  else:\n",
    "    return 3\n",
    "  \n",
    "dataset_quarterly = dataset.copy()\n",
    "dataset_quarterly['quarterly_period'] = pd.to_datetime(dataset_quarterly.transaction_date)\n",
    "dataset_quarterly['quarterly_period'] = dataset_quarterly['quarterly_period'].dt.strftime('%-m')\n",
    "dataset_quarterly['quarterly_period'] = dataset_quarterly.apply(quaterly_adjust, axis=1)\n",
    "dataset_quarterly.head()"
   ]
  },
  {
   "cell_type": "markdown",
   "metadata": {
    "id": "0mhamUPXMdg4"
   },
   "source": [
    "## Yearly Adjusted"
   ]
  },
  {
   "cell_type": "markdown",
   "metadata": {
    "id": "S6CBerslMigI"
   },
   "source": [
    "Depends on previous data, we must think first what we want to display."
   ]
  },
  {
   "cell_type": "markdown",
   "metadata": {
    "id": "SOvac5AJyNXs"
   },
   "source": [
    "# Show sector more/less profitable"
   ]
  },
  {
   "cell_type": "code",
   "execution_count": 17,
   "metadata": {
    "colab": {
     "base_uri": "https://localhost:8080/",
     "height": 51
    },
    "id": "8jpipmyye5My",
    "outputId": "2a72c5d8-f96a-4849-edba-28a41bf1b745"
   },
   "outputs": [
    {
     "name": "stdout",
     "output_type": "stream",
     "text": [
      "29\n",
      "29\n"
     ]
    }
   ],
   "source": [
    "#Show sector more/less profitable\n",
    "## More profitable\n",
    "print(len(dataset['department_desc'].unique().tolist()))\n",
    "print(len(dataset['department'].unique().tolist()))"
   ]
  },
  {
   "cell_type": "code",
   "execution_count": null,
   "metadata": {
    "id": "m76lzxjvxGS-"
   },
   "outputs": [],
   "source": [
    "tmp = dataset[['department_desc','transaction_amount']]\n",
    "tmp = tmp.fillna('Other')\n",
    "tmp"
   ]
  },
  {
   "cell_type": "code",
   "execution_count": null,
   "metadata": {
    "id": "ySL930DEyTFZ"
   },
   "outputs": [],
   "source": [
    "tmp = tmp.groupby('department_desc').sum()\n",
    "tmp.sort_values(by='transaction_amount', ascending=False)"
   ]
  },
  {
   "cell_type": "markdown",
   "metadata": {
    "id": "eWdCFNjtM5Jk"
   },
   "source": [
    "# Earnings, Costs, Profits, Losses"
   ]
  },
  {
   "cell_type": "code",
   "execution_count": 110,
   "metadata": {
    "colab": {
     "base_uri": "https://localhost:8080/",
     "height": 34
    },
    "id": "CnjqjpQOTSRp",
    "outputId": "2b0aa17b-e4ec-4a1a-966b-c14f576e94e6"
   },
   "outputs": [
    {
     "name": "stdout",
     "output_type": "stream",
     "text": [
      "197816147.59999996 , -176434.49999999997 , 197992582.09999996\n"
     ]
    }
   ],
   "source": [
    "earnings = dataset[dataset['transaction_amount'] > 0]['transaction_amount'].sum()\n",
    "costs = dataset[dataset['transaction_amount'] < 0]['transaction_amount'].sum()\n",
    "\n",
    "profits_losses = earnings - costs\n",
    "print(earnings, costs, profits, sep=' , ')"
   ]
  },
  {
   "cell_type": "markdown",
   "metadata": {
    "id": "Hw5G5igXUc1Q"
   },
   "source": [
    "# Proportion of Sectors of action"
   ]
  },
  {
   "cell_type": "code",
   "execution_count": null,
   "metadata": {
    "id": "Ql5WkF3NUZHO"
   },
   "outputs": [],
   "source": [
    "dataset['fund_desc'].unique()"
   ]
  },
  {
   "cell_type": "code",
   "execution_count": 126,
   "metadata": {
    "colab": {
     "base_uri": "https://localhost:8080/",
     "height": 235
    },
    "id": "8mWbmV7aUzZw",
    "outputId": "8ddd0e35-8d55-4253-cc26-a0a7f5a6e9dc"
   },
   "outputs": [
    {
     "data": {
      "text/html": [
       "<div>\n",
       "<style scoped>\n",
       "    .dataframe tbody tr th:only-of-type {\n",
       "        vertical-align: middle;\n",
       "    }\n",
       "\n",
       "    .dataframe tbody tr th {\n",
       "        vertical-align: top;\n",
       "    }\n",
       "\n",
       "    .dataframe thead th {\n",
       "        text-align: right;\n",
       "    }\n",
       "</style>\n",
       "<table border=\"1\" class=\"dataframe\">\n",
       "  <thead>\n",
       "    <tr style=\"text-align: right;\">\n",
       "      <th></th>\n",
       "      <th>n_invoices</th>\n",
       "    </tr>\n",
       "    <tr>\n",
       "      <th>fund_desc</th>\n",
       "      <th></th>\n",
       "    </tr>\n",
       "  </thead>\n",
       "  <tbody>\n",
       "    <tr>\n",
       "      <th>.25 Cent Sales Tax</th>\n",
       "      <td>1206</td>\n",
       "    </tr>\n",
       "    <tr>\n",
       "      <th>2011 Capital Improvement Bond</th>\n",
       "      <td>5</td>\n",
       "    </tr>\n",
       "    <tr>\n",
       "      <th>Affordable Housing</th>\n",
       "      <td>124</td>\n",
       "    </tr>\n",
       "    <tr>\n",
       "      <th>Airport</th>\n",
       "      <td>139</td>\n",
       "    </tr>\n",
       "    <tr>\n",
       "      <th>BMPA Debt Service</th>\n",
       "      <td>1</td>\n",
       "    </tr>\n",
       "  </tbody>\n",
       "</table>\n",
       "</div>"
      ],
      "text/plain": [
       "                               n_invoices\n",
       "fund_desc                                \n",
       ".25 Cent Sales Tax                   1206\n",
       "2011 Capital Improvement Bond           5\n",
       "Affordable Housing                    124\n",
       "Airport                               139\n",
       "BMPA Debt Service                       1"
      ]
     },
     "execution_count": 126,
     "metadata": {
      "tags": []
     },
     "output_type": "execute_result"
    }
   ],
   "source": [
    "tmp = dataset[['transaction_amount','fund_desc']]\n",
    "tmp = tmp.groupby('fund_desc').count()\n",
    "tmp.columns = ['n_invoices']\n",
    "tmp.head()\n",
    "#tmp.plot.pie(y='n_invoices', autopct=\"%.1f%%\");"
   ]
  },
  {
   "cell_type": "markdown",
   "metadata": {
    "id": "HAuVsjkeXzWj"
   },
   "source": [
    "# Top Clients"
   ]
  },
  {
   "cell_type": "code",
   "execution_count": 136,
   "metadata": {
    "colab": {
     "base_uri": "https://localhost:8080/",
     "height": 235
    },
    "id": "vpLi2WavX66p",
    "outputId": "4833bad6-b117-455d-f17c-bd95cd2f00a8"
   },
   "outputs": [
    {
     "data": {
      "text/html": [
       "<div>\n",
       "<style scoped>\n",
       "    .dataframe tbody tr th:only-of-type {\n",
       "        vertical-align: middle;\n",
       "    }\n",
       "\n",
       "    .dataframe tbody tr th {\n",
       "        vertical-align: top;\n",
       "    }\n",
       "\n",
       "    .dataframe thead th {\n",
       "        text-align: right;\n",
       "    }\n",
       "</style>\n",
       "<table border=\"1\" class=\"dataframe\">\n",
       "  <thead>\n",
       "    <tr style=\"text-align: right;\">\n",
       "      <th></th>\n",
       "      <th>n_invoices</th>\n",
       "    </tr>\n",
       "    <tr>\n",
       "      <th>vendor_name</th>\n",
       "      <th></th>\n",
       "    </tr>\n",
       "  </thead>\n",
       "  <tbody>\n",
       "    <tr>\n",
       "      <th>PCARD ONETIME VENDOR</th>\n",
       "      <td>2848</td>\n",
       "    </tr>\n",
       "    <tr>\n",
       "      <th>XCEL ENERGY</th>\n",
       "      <td>892</td>\n",
       "    </tr>\n",
       "    <tr>\n",
       "      <th>MCGUCKIN HARDWARE</th>\n",
       "      <td>722</td>\n",
       "    </tr>\n",
       "    <tr>\n",
       "      <th>HOME DEPOT USA INC</th>\n",
       "      <td>619</td>\n",
       "    </tr>\n",
       "    <tr>\n",
       "      <th>CENTURYLINK</th>\n",
       "      <td>355</td>\n",
       "    </tr>\n",
       "  </tbody>\n",
       "</table>\n",
       "</div>"
      ],
      "text/plain": [
       "                      n_invoices\n",
       "vendor_name                     \n",
       "PCARD ONETIME VENDOR        2848\n",
       "XCEL ENERGY                  892\n",
       "MCGUCKIN HARDWARE            722\n",
       "HOME DEPOT USA INC           619\n",
       "CENTURYLINK                  355"
      ]
     },
     "execution_count": 136,
     "metadata": {
      "tags": []
     },
     "output_type": "execute_result"
    }
   ],
   "source": [
    "tmp = dataset[['vendor_name','nif']]\n",
    "tmp = tmp.groupby('vendor_name').count()\n",
    "tmp.columns = ['n_invoices']\n",
    "tmp = tmp.sort_values(by='n_invoices', ascending=False)\n",
    "tmp.head()"
   ]
  }
 ],
 "metadata": {
  "colab": {
   "collapsed_sections": [
    "EOzEGshUNbnu",
    "gRFQrW2bzuDO",
    "4kwBYBpj07J7",
    "LT7ubyzX5Lx_",
    "hzckB33DE8BY",
    "0mhamUPXMdg4",
    "SOvac5AJyNXs",
    "eWdCFNjtM5Jk",
    "Hw5G5igXUc1Q",
    "HAuVsjkeXzWj"
   ],
   "name": "Dataset Manipulation Prototype.ipynb",
   "provenance": []
  },
  "kernelspec": {
   "display_name": "Python 3",
   "language": "python",
   "name": "python3"
  },
  "language_info": {
   "codemirror_mode": {
    "name": "ipython",
    "version": 3
   },
   "file_extension": ".py",
   "mimetype": "text/x-python",
   "name": "python",
   "nbconvert_exporter": "python",
   "pygments_lexer": "ipython3",
   "version": "3.8.5"
  }
 },
 "nbformat": 4,
 "nbformat_minor": 1
}
