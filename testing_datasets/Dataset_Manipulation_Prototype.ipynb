{
  "nbformat": 4,
  "nbformat_minor": 0,
  "metadata": {
    "colab": {
      "name": "Dataset Manipulation Prototype.ipynb",
      "provenance": [],
      "collapsed_sections": [
        "EOzEGshUNbnu",
        "gRFQrW2bzuDO",
        "4kwBYBpj07J7",
        "LT7ubyzX5Lx_",
        "hzckB33DE8BY",
        "0mhamUPXMdg4",
        "SOvac5AJyNXs",
        "eWdCFNjtM5Jk",
        "Hw5G5igXUc1Q",
        "HAuVsjkeXzWj"
      ]
    },
    "kernelspec": {
      "name": "python3",
      "display_name": "Python 3"
    }
  },
  "cells": [
    {
      "cell_type": "code",
      "metadata": {
        "id": "GBWE0XwaNa4f"
      },
      "source": [
        ""
      ],
      "execution_count": null,
      "outputs": []
    },
    {
      "cell_type": "markdown",
      "metadata": {
        "id": "EOzEGshUNbnu"
      },
      "source": [
        "# Importing required packages"
      ]
    },
    {
      "cell_type": "code",
      "metadata": {
        "id": "fs9FTASpafgw"
      },
      "source": [
        "import pandas as pd\n",
        "import matplotlib.pyplot as plt\n",
        "import seaborn as sns"
      ],
      "execution_count": 2,
      "outputs": []
    },
    {
      "cell_type": "markdown",
      "metadata": {
        "id": "ytDJ86gBNhqs"
      },
      "source": [
        "# Dataset used for prototyping"
      ]
    },
    {
      "cell_type": "markdown",
      "metadata": {
        "id": "jAdA1OSsNucQ"
      },
      "source": [
        "All the following work must be adjusted to the correct data format, as well as converted to scripts for better handling."
      ]
    },
    {
      "cell_type": "code",
      "metadata": {
        "id": "XPc_5xtNbeMW"
      },
      "source": [
        "dataset = pd.read_csv('accounts_payable_2020.csv')"
      ],
      "execution_count": 104,
      "outputs": []
    },
    {
      "cell_type": "code",
      "metadata": {
        "id": "AUxHsHTfDH4h"
      },
      "source": [
        "dataset.head()"
      ],
      "execution_count": null,
      "outputs": []
    },
    {
      "cell_type": "code",
      "metadata": {
        "id": "p2_ghVm5dhlR",
        "outputId": "572bca3a-bfff-4fdb-9973-bfbf3a80ae61",
        "colab": {
          "base_uri": "https://localhost:8080/",
          "height": 309
        }
      },
      "source": [
        "dataset = dataset.rename(columns={\n",
        "    'organization_code': 'nif',\n",
        "})\n",
        "dataset['invoice_number'] = range(1000, 1000+len(dataset))\n",
        "dataset.tail()"
      ],
      "execution_count": 129,
      "outputs": [
        {
          "output_type": "execute_result",
          "data": {
            "text/html": [
              "<div>\n",
              "<style scoped>\n",
              "    .dataframe tbody tr th:only-of-type {\n",
              "        vertical-align: middle;\n",
              "    }\n",
              "\n",
              "    .dataframe tbody tr th {\n",
              "        vertical-align: top;\n",
              "    }\n",
              "\n",
              "    .dataframe thead th {\n",
              "        text-align: right;\n",
              "    }\n",
              "</style>\n",
              "<table border=\"1\" class=\"dataframe\">\n",
              "  <thead>\n",
              "    <tr style=\"text-align: right;\">\n",
              "      <th></th>\n",
              "      <th>vendor_name</th>\n",
              "      <th>transaction_date</th>\n",
              "      <th>transaction_amount</th>\n",
              "      <th>nif</th>\n",
              "      <th>fund</th>\n",
              "      <th>fund_desc</th>\n",
              "      <th>department</th>\n",
              "      <th>department_desc</th>\n",
              "      <th>object_code</th>\n",
              "      <th>account_description</th>\n",
              "      <th>invoice_number</th>\n",
              "    </tr>\n",
              "  </thead>\n",
              "  <tbody>\n",
              "    <tr>\n",
              "      <th>24431</th>\n",
              "      <td>FOOD TAX REBATE</td>\n",
              "      <td>09/24/2020</td>\n",
              "      <td>87.0</td>\n",
              "      <td>110000</td>\n",
              "      <td>1100</td>\n",
              "      <td>General</td>\n",
              "      <td>0</td>\n",
              "      <td>NaN</td>\n",
              "      <td>401130</td>\n",
              "      <td>Food Tax Refunds</td>\n",
              "      <td>25431</td>\n",
              "    </tr>\n",
              "    <tr>\n",
              "      <th>24432</th>\n",
              "      <td>FOOD TAX REBATE</td>\n",
              "      <td>09/28/2020</td>\n",
              "      <td>2456.0</td>\n",
              "      <td>110000</td>\n",
              "      <td>1100</td>\n",
              "      <td>General</td>\n",
              "      <td>0</td>\n",
              "      <td>NaN</td>\n",
              "      <td>401130</td>\n",
              "      <td>Food Tax Refunds</td>\n",
              "      <td>25432</td>\n",
              "    </tr>\n",
              "    <tr>\n",
              "      <th>24433</th>\n",
              "      <td>FOOD TAX REBATE</td>\n",
              "      <td>09/29/2020</td>\n",
              "      <td>526.0</td>\n",
              "      <td>110000</td>\n",
              "      <td>1100</td>\n",
              "      <td>General</td>\n",
              "      <td>0</td>\n",
              "      <td>NaN</td>\n",
              "      <td>401130</td>\n",
              "      <td>Food Tax Refunds</td>\n",
              "      <td>25433</td>\n",
              "    </tr>\n",
              "    <tr>\n",
              "      <th>24434</th>\n",
              "      <td>FOOD TAX REBATE</td>\n",
              "      <td>10/01/2020</td>\n",
              "      <td>2713.0</td>\n",
              "      <td>110000</td>\n",
              "      <td>1100</td>\n",
              "      <td>General</td>\n",
              "      <td>0</td>\n",
              "      <td>NaN</td>\n",
              "      <td>401130</td>\n",
              "      <td>Food Tax Refunds</td>\n",
              "      <td>25434</td>\n",
              "    </tr>\n",
              "    <tr>\n",
              "      <th>24435</th>\n",
              "      <td>FOOD TAX REBATE</td>\n",
              "      <td>10/05/2020</td>\n",
              "      <td>1313.0</td>\n",
              "      <td>110000</td>\n",
              "      <td>1100</td>\n",
              "      <td>General</td>\n",
              "      <td>0</td>\n",
              "      <td>NaN</td>\n",
              "      <td>401130</td>\n",
              "      <td>Food Tax Refunds</td>\n",
              "      <td>25435</td>\n",
              "    </tr>\n",
              "  </tbody>\n",
              "</table>\n",
              "</div>"
            ],
            "text/plain": [
              "                vendor_name  ... invoice_number\n",
              "24431  FOOD TAX REBATE       ...          25431\n",
              "24432  FOOD TAX REBATE       ...          25432\n",
              "24433  FOOD TAX REBATE       ...          25433\n",
              "24434  FOOD TAX REBATE       ...          25434\n",
              "24435  FOOD TAX REBATE       ...          25435\n",
              "\n",
              "[5 rows x 11 columns]"
            ]
          },
          "metadata": {
            "tags": []
          },
          "execution_count": 129
        }
      ]
    },
    {
      "cell_type": "markdown",
      "metadata": {
        "id": "gRFQrW2bzuDO"
      },
      "source": [
        "# Adjust data per Semester"
      ]
    },
    {
      "cell_type": "markdown",
      "metadata": {
        "id": "4kwBYBpj07J7"
      },
      "source": [
        "## Monthly Adjusted"
      ]
    },
    {
      "cell_type": "code",
      "metadata": {
        "id": "c2JZDBL109cS"
      },
      "source": [
        "#%%timeit\n",
        "\n",
        "from datetime import datetime\n",
        "\n",
        "dataset_monthly = dataset\n",
        "\n",
        "for i, row in dataset_monthly.iterrows():\n",
        "    ifor_val = datetime.strptime(row['transaction_date'], '%m/%d/%Y').month\n",
        "    dataset_monthly.at[i,'month'] = ifor_val\n",
        "\n",
        "dataset_monthly.head()"
      ],
      "execution_count": null,
      "outputs": []
    },
    {
      "cell_type": "code",
      "metadata": {
        "id": "C8S7rw934S_Q"
      },
      "source": [
        "#%%timeit\n",
        "\n",
        "dataset_monthly = dataset\n",
        "dataset_monthly['month'] = dataset_monthly.apply(lambda row: datetime.strptime(row['transaction_date'], '%m/%d/%Y').month, axis=1)\n",
        "dataset_monthly.head()"
      ],
      "execution_count": null,
      "outputs": []
    },
    {
      "cell_type": "code",
      "metadata": {
        "id": "CFOLYQ_80T_a",
        "outputId": "25634f10-5a9d-405d-c069-3f12854bcd52",
        "colab": {
          "base_uri": "https://localhost:8080/",
          "height": 343
        }
      },
      "source": [
        "#%%timeit\n",
        "# More efficient way\n",
        "\n",
        "dataset_monthly = dataset.copy()\n",
        "dataset_monthly['month'] = pd.to_datetime(dataset_monthly.transaction_date)\n",
        "dataset_monthly['month'] = dataset_monthly['month'].dt.strftime('%-m')\n",
        "dataset_monthly.head()"
      ],
      "execution_count": 101,
      "outputs": [
        {
          "output_type": "execute_result",
          "data": {
            "text/html": [
              "<div>\n",
              "<style scoped>\n",
              "    .dataframe tbody tr th:only-of-type {\n",
              "        vertical-align: middle;\n",
              "    }\n",
              "\n",
              "    .dataframe tbody tr th {\n",
              "        vertical-align: top;\n",
              "    }\n",
              "\n",
              "    .dataframe thead th {\n",
              "        text-align: right;\n",
              "    }\n",
              "</style>\n",
              "<table border=\"1\" class=\"dataframe\">\n",
              "  <thead>\n",
              "    <tr style=\"text-align: right;\">\n",
              "      <th></th>\n",
              "      <th>vendor_name</th>\n",
              "      <th>transaction_date</th>\n",
              "      <th>transaction_amount</th>\n",
              "      <th>nif</th>\n",
              "      <th>fund</th>\n",
              "      <th>fund_desc</th>\n",
              "      <th>department</th>\n",
              "      <th>department_desc</th>\n",
              "      <th>object_code</th>\n",
              "      <th>account_description</th>\n",
              "      <th>invoice_number</th>\n",
              "      <th>month</th>\n",
              "      <th>biannual_period</th>\n",
              "    </tr>\n",
              "  </thead>\n",
              "  <tbody>\n",
              "    <tr>\n",
              "      <th>0</th>\n",
              "      <td>JANE KENNEDY</td>\n",
              "      <td>10/07/2020</td>\n",
              "      <td>78.88</td>\n",
              "      <td>51523032</td>\n",
              "      <td>2300</td>\n",
              "      <td>Recreation Activity</td>\n",
              "      <td>515</td>\n",
              "      <td>Parks and Recreation</td>\n",
              "      <td>710500</td>\n",
              "      <td>Business Travel</td>\n",
              "      <td>1000</td>\n",
              "      <td>10</td>\n",
              "      <td>1</td>\n",
              "    </tr>\n",
              "    <tr>\n",
              "      <th>1</th>\n",
              "      <td>PAMELA AUBRY</td>\n",
              "      <td>05/07/2020</td>\n",
              "      <td>41.40</td>\n",
              "      <td>13510010</td>\n",
              "      <td>1100</td>\n",
              "      <td>General</td>\n",
              "      <td>135</td>\n",
              "      <td>Municipal Court</td>\n",
              "      <td>710500</td>\n",
              "      <td>Business Travel</td>\n",
              "      <td>1001</td>\n",
              "      <td>5</td>\n",
              "      <td>0</td>\n",
              "    </tr>\n",
              "    <tr>\n",
              "      <th>2</th>\n",
              "      <td>DAVID SUTHERLAND</td>\n",
              "      <td>04/15/2020</td>\n",
              "      <td>88.55</td>\n",
              "      <td>55520270</td>\n",
              "      <td>2500</td>\n",
              "      <td>Open Space</td>\n",
              "      <td>555</td>\n",
              "      <td>Open Space &amp; Mountain Parks</td>\n",
              "      <td>710500</td>\n",
              "      <td>Business Travel</td>\n",
              "      <td>1002</td>\n",
              "      <td>4</td>\n",
              "      <td>0</td>\n",
              "    </tr>\n",
              "    <tr>\n",
              "      <th>3</th>\n",
              "      <td>JAMES C. BISH JR</td>\n",
              "      <td>02/19/2020</td>\n",
              "      <td>111.09</td>\n",
              "      <td>38020010</td>\n",
              "      <td>2120</td>\n",
              "      <td>Planning and Development Svc</td>\n",
              "      <td>380</td>\n",
              "      <td>PW-Development</td>\n",
              "      <td>710515</td>\n",
              "      <td>Empl Training</td>\n",
              "      <td>1003</td>\n",
              "      <td>2</td>\n",
              "      <td>0</td>\n",
              "    </tr>\n",
              "    <tr>\n",
              "      <th>4</th>\n",
              "      <td>JACOB ALBERT JACOBS</td>\n",
              "      <td>02/05/2020</td>\n",
              "      <td>852.60</td>\n",
              "      <td>51523020</td>\n",
              "      <td>2300</td>\n",
              "      <td>Recreation Activity</td>\n",
              "      <td>515</td>\n",
              "      <td>Parks and Recreation</td>\n",
              "      <td>710515</td>\n",
              "      <td>Empl Training</td>\n",
              "      <td>1004</td>\n",
              "      <td>2</td>\n",
              "      <td>0</td>\n",
              "    </tr>\n",
              "  </tbody>\n",
              "</table>\n",
              "</div>"
            ],
            "text/plain": [
              "           vendor_name transaction_date  ...  month  biannual_period\n",
              "0         JANE KENNEDY       10/07/2020  ...     10                1\n",
              "1         PAMELA AUBRY       05/07/2020  ...      5                0\n",
              "2     DAVID SUTHERLAND       04/15/2020  ...      4                0\n",
              "3     JAMES C. BISH JR       02/19/2020  ...      2                0\n",
              "4  JACOB ALBERT JACOBS       02/05/2020  ...      2                0\n",
              "\n",
              "[5 rows x 13 columns]"
            ]
          },
          "metadata": {
            "tags": []
          },
          "execution_count": 101
        }
      ]
    },
    {
      "cell_type": "markdown",
      "metadata": {
        "id": "LT7ubyzX5Lx_"
      },
      "source": [
        "## Biannual Adjusted"
      ]
    },
    {
      "cell_type": "markdown",
      "metadata": {
        "id": "aJ9aQAbv-g-v"
      },
      "source": [
        "May require more work, depending **if the biannual starts at different timings than the default and presumed** January 1st and July 1st."
      ]
    },
    {
      "cell_type": "code",
      "metadata": {
        "id": "2LHPYhg-5Ny2",
        "outputId": "705376a7-f281-415f-c532-561a281db8cf",
        "colab": {
          "base_uri": "https://localhost:8080/",
          "height": 309
        }
      },
      "source": [
        "dataset_biannual = dataset.copy()\n",
        "dataset_biannual['biannual_period'] = pd.to_datetime(dataset_biannual.transaction_date)\n",
        "dataset_biannual['biannual_period'] = dataset_biannual['biannual_period'].dt.strftime('%-m')\n",
        "dataset_biannual['biannual_period'] = dataset_biannual.apply(lambda row: 0 if int(row['biannual_period']) <= 5 else 1, axis=1)\n",
        "dataset_biannual.tail()"
      ],
      "execution_count": 85,
      "outputs": [
        {
          "output_type": "execute_result",
          "data": {
            "text/html": [
              "<div>\n",
              "<style scoped>\n",
              "    .dataframe tbody tr th:only-of-type {\n",
              "        vertical-align: middle;\n",
              "    }\n",
              "\n",
              "    .dataframe tbody tr th {\n",
              "        vertical-align: top;\n",
              "    }\n",
              "\n",
              "    .dataframe thead th {\n",
              "        text-align: right;\n",
              "    }\n",
              "</style>\n",
              "<table border=\"1\" class=\"dataframe\">\n",
              "  <thead>\n",
              "    <tr style=\"text-align: right;\">\n",
              "      <th></th>\n",
              "      <th>vendor_name</th>\n",
              "      <th>transaction_date</th>\n",
              "      <th>transaction_amount</th>\n",
              "      <th>nif</th>\n",
              "      <th>fund</th>\n",
              "      <th>fund_desc</th>\n",
              "      <th>department</th>\n",
              "      <th>department_desc</th>\n",
              "      <th>object_code</th>\n",
              "      <th>account_description</th>\n",
              "      <th>invoice_number</th>\n",
              "      <th>month</th>\n",
              "      <th>biannual_period</th>\n",
              "    </tr>\n",
              "  </thead>\n",
              "  <tbody>\n",
              "    <tr>\n",
              "      <th>24431</th>\n",
              "      <td>FOOD TAX REBATE</td>\n",
              "      <td>09/24/2020</td>\n",
              "      <td>87.0</td>\n",
              "      <td>110000</td>\n",
              "      <td>1100</td>\n",
              "      <td>General</td>\n",
              "      <td>0</td>\n",
              "      <td>NaN</td>\n",
              "      <td>401130</td>\n",
              "      <td>Food Tax Refunds</td>\n",
              "      <td>25431</td>\n",
              "      <td>9</td>\n",
              "      <td>1</td>\n",
              "    </tr>\n",
              "    <tr>\n",
              "      <th>24432</th>\n",
              "      <td>FOOD TAX REBATE</td>\n",
              "      <td>09/28/2020</td>\n",
              "      <td>2456.0</td>\n",
              "      <td>110000</td>\n",
              "      <td>1100</td>\n",
              "      <td>General</td>\n",
              "      <td>0</td>\n",
              "      <td>NaN</td>\n",
              "      <td>401130</td>\n",
              "      <td>Food Tax Refunds</td>\n",
              "      <td>25432</td>\n",
              "      <td>9</td>\n",
              "      <td>1</td>\n",
              "    </tr>\n",
              "    <tr>\n",
              "      <th>24433</th>\n",
              "      <td>FOOD TAX REBATE</td>\n",
              "      <td>09/29/2020</td>\n",
              "      <td>526.0</td>\n",
              "      <td>110000</td>\n",
              "      <td>1100</td>\n",
              "      <td>General</td>\n",
              "      <td>0</td>\n",
              "      <td>NaN</td>\n",
              "      <td>401130</td>\n",
              "      <td>Food Tax Refunds</td>\n",
              "      <td>25433</td>\n",
              "      <td>9</td>\n",
              "      <td>1</td>\n",
              "    </tr>\n",
              "    <tr>\n",
              "      <th>24434</th>\n",
              "      <td>FOOD TAX REBATE</td>\n",
              "      <td>10/01/2020</td>\n",
              "      <td>2713.0</td>\n",
              "      <td>110000</td>\n",
              "      <td>1100</td>\n",
              "      <td>General</td>\n",
              "      <td>0</td>\n",
              "      <td>NaN</td>\n",
              "      <td>401130</td>\n",
              "      <td>Food Tax Refunds</td>\n",
              "      <td>25434</td>\n",
              "      <td>10</td>\n",
              "      <td>1</td>\n",
              "    </tr>\n",
              "    <tr>\n",
              "      <th>24435</th>\n",
              "      <td>FOOD TAX REBATE</td>\n",
              "      <td>10/05/2020</td>\n",
              "      <td>1313.0</td>\n",
              "      <td>110000</td>\n",
              "      <td>1100</td>\n",
              "      <td>General</td>\n",
              "      <td>0</td>\n",
              "      <td>NaN</td>\n",
              "      <td>401130</td>\n",
              "      <td>Food Tax Refunds</td>\n",
              "      <td>25435</td>\n",
              "      <td>10</td>\n",
              "      <td>1</td>\n",
              "    </tr>\n",
              "  </tbody>\n",
              "</table>\n",
              "</div>"
            ],
            "text/plain": [
              "                vendor_name transaction_date  ...  month  biannual_period\n",
              "24431  FOOD TAX REBATE            09/24/2020  ...      9                1\n",
              "24432  FOOD TAX REBATE            09/28/2020  ...      9                1\n",
              "24433  FOOD TAX REBATE            09/29/2020  ...      9                1\n",
              "24434  FOOD TAX REBATE            10/01/2020  ...     10                1\n",
              "24435  FOOD TAX REBATE            10/05/2020  ...     10                1\n",
              "\n",
              "[5 rows x 13 columns]"
            ]
          },
          "metadata": {
            "tags": []
          },
          "execution_count": 85
        }
      ]
    },
    {
      "cell_type": "markdown",
      "metadata": {
        "id": "hzckB33DE8BY"
      },
      "source": [
        "## Quartely Adjusted"
      ]
    },
    {
      "cell_type": "markdown",
      "metadata": {
        "id": "hloSYytoFDbn"
      },
      "source": [
        "Same rule as before applies. If the timelines are different than the standard, the conditions must be updated."
      ]
    },
    {
      "cell_type": "code",
      "metadata": {
        "id": "nPAWROfsE_xu"
      },
      "source": [
        "def quaterly_adjust(row):\n",
        "  m = int(row['quarterly_period'])\n",
        "  if m <= 2:\n",
        "    return 0\n",
        "  elif m <= 5:\n",
        "    return 1\n",
        "  elif m <= 8:\n",
        "    return 2\n",
        "  else:\n",
        "    return 3\n",
        "  \n",
        "dataset_quarterly = dataset.copy()\n",
        "dataset_quarterly['quarterly_period'] = pd.to_datetime(dataset_quarterly.transaction_date)\n",
        "dataset_quarterly['quarterly_period'] = dataset_quarterly['quarterly_period'].dt.strftime('%-m')\n",
        "dataset_quarterly['quarterly_period'] = dataset_quarterly.apply(quaterly_adjust, axis=1)\n",
        "dataset_quarterly.head()"
      ],
      "execution_count": null,
      "outputs": []
    },
    {
      "cell_type": "markdown",
      "metadata": {
        "id": "0mhamUPXMdg4"
      },
      "source": [
        "## Yearly Adjusted"
      ]
    },
    {
      "cell_type": "markdown",
      "metadata": {
        "id": "S6CBerslMigI"
      },
      "source": [
        "Depends on previous data, we must think first what we want to display."
      ]
    },
    {
      "cell_type": "markdown",
      "metadata": {
        "id": "SOvac5AJyNXs"
      },
      "source": [
        "# Show sector more/less profitable"
      ]
    },
    {
      "cell_type": "code",
      "metadata": {
        "id": "8jpipmyye5My",
        "outputId": "2a72c5d8-f96a-4849-edba-28a41bf1b745",
        "colab": {
          "base_uri": "https://localhost:8080/",
          "height": 51
        }
      },
      "source": [
        "#Show sector more/less profitable\n",
        "## More profitable\n",
        "print(len(dataset['department_desc'].unique().tolist()))\n",
        "print(len(dataset['department'].unique().tolist()))"
      ],
      "execution_count": 17,
      "outputs": [
        {
          "output_type": "stream",
          "text": [
            "29\n",
            "29\n"
          ],
          "name": "stdout"
        }
      ]
    },
    {
      "cell_type": "code",
      "metadata": {
        "id": "m76lzxjvxGS-"
      },
      "source": [
        "tmp = dataset[['department_desc','transaction_amount']]\n",
        "tmp = tmp.fillna('Other')\n",
        "tmp"
      ],
      "execution_count": null,
      "outputs": []
    },
    {
      "cell_type": "code",
      "metadata": {
        "id": "ySL930DEyTFZ"
      },
      "source": [
        "tmp = tmp.groupby('department_desc').sum()\n",
        "tmp.sort_values(by='transaction_amount', ascending=False)"
      ],
      "execution_count": null,
      "outputs": []
    },
    {
      "cell_type": "markdown",
      "metadata": {
        "id": "eWdCFNjtM5Jk"
      },
      "source": [
        "# Earnings, Costs, Profits, Losses"
      ]
    },
    {
      "cell_type": "code",
      "metadata": {
        "id": "CnjqjpQOTSRp",
        "outputId": "2b0aa17b-e4ec-4a1a-966b-c14f576e94e6",
        "colab": {
          "base_uri": "https://localhost:8080/",
          "height": 34
        }
      },
      "source": [
        "earnings = dataset[dataset['transaction_amount'] > 0]['transaction_amount'].sum()\n",
        "costs = dataset[dataset['transaction_amount'] < 0]['transaction_amount'].sum()\n",
        "\n",
        "profits_losses = earnings - costs\n",
        "print(earnings, costs, profits, sep=' , ')"
      ],
      "execution_count": 110,
      "outputs": [
        {
          "output_type": "stream",
          "text": [
            "197816147.59999996 , -176434.49999999997 , 197992582.09999996\n"
          ],
          "name": "stdout"
        }
      ]
    },
    {
      "cell_type": "markdown",
      "metadata": {
        "id": "Hw5G5igXUc1Q"
      },
      "source": [
        "# Proportion of Sectors of action"
      ]
    },
    {
      "cell_type": "code",
      "metadata": {
        "id": "Ql5WkF3NUZHO"
      },
      "source": [
        "dataset['fund_desc'].unique()"
      ],
      "execution_count": null,
      "outputs": []
    },
    {
      "cell_type": "code",
      "metadata": {
        "id": "8mWbmV7aUzZw",
        "outputId": "8ddd0e35-8d55-4253-cc26-a0a7f5a6e9dc",
        "colab": {
          "base_uri": "https://localhost:8080/",
          "height": 235
        }
      },
      "source": [
        "tmp = dataset[['transaction_amount','fund_desc']]\n",
        "tmp = tmp.groupby('fund_desc').count()\n",
        "tmp.columns = ['n_invoices']\n",
        "tmp.head()\n",
        "#tmp.plot.pie(y='n_invoices', autopct=\"%.1f%%\");"
      ],
      "execution_count": 126,
      "outputs": [
        {
          "output_type": "execute_result",
          "data": {
            "text/html": [
              "<div>\n",
              "<style scoped>\n",
              "    .dataframe tbody tr th:only-of-type {\n",
              "        vertical-align: middle;\n",
              "    }\n",
              "\n",
              "    .dataframe tbody tr th {\n",
              "        vertical-align: top;\n",
              "    }\n",
              "\n",
              "    .dataframe thead th {\n",
              "        text-align: right;\n",
              "    }\n",
              "</style>\n",
              "<table border=\"1\" class=\"dataframe\">\n",
              "  <thead>\n",
              "    <tr style=\"text-align: right;\">\n",
              "      <th></th>\n",
              "      <th>n_invoices</th>\n",
              "    </tr>\n",
              "    <tr>\n",
              "      <th>fund_desc</th>\n",
              "      <th></th>\n",
              "    </tr>\n",
              "  </thead>\n",
              "  <tbody>\n",
              "    <tr>\n",
              "      <th>.25 Cent Sales Tax</th>\n",
              "      <td>1206</td>\n",
              "    </tr>\n",
              "    <tr>\n",
              "      <th>2011 Capital Improvement Bond</th>\n",
              "      <td>5</td>\n",
              "    </tr>\n",
              "    <tr>\n",
              "      <th>Affordable Housing</th>\n",
              "      <td>124</td>\n",
              "    </tr>\n",
              "    <tr>\n",
              "      <th>Airport</th>\n",
              "      <td>139</td>\n",
              "    </tr>\n",
              "    <tr>\n",
              "      <th>BMPA Debt Service</th>\n",
              "      <td>1</td>\n",
              "    </tr>\n",
              "  </tbody>\n",
              "</table>\n",
              "</div>"
            ],
            "text/plain": [
              "                               n_invoices\n",
              "fund_desc                                \n",
              ".25 Cent Sales Tax                   1206\n",
              "2011 Capital Improvement Bond           5\n",
              "Affordable Housing                    124\n",
              "Airport                               139\n",
              "BMPA Debt Service                       1"
            ]
          },
          "metadata": {
            "tags": []
          },
          "execution_count": 126
        }
      ]
    },
    {
      "cell_type": "markdown",
      "metadata": {
        "id": "HAuVsjkeXzWj"
      },
      "source": [
        "# Top Clients"
      ]
    },
    {
      "cell_type": "code",
      "metadata": {
        "id": "vpLi2WavX66p",
        "outputId": "4833bad6-b117-455d-f17c-bd95cd2f00a8",
        "colab": {
          "base_uri": "https://localhost:8080/",
          "height": 235
        }
      },
      "source": [
        "tmp = dataset[['vendor_name','nif']]\n",
        "tmp = tmp.groupby('vendor_name').count()\n",
        "tmp.columns = ['n_invoices']\n",
        "tmp = tmp.sort_values(by='n_invoices', ascending=False)\n",
        "tmp.head()"
      ],
      "execution_count": 136,
      "outputs": [
        {
          "output_type": "execute_result",
          "data": {
            "text/html": [
              "<div>\n",
              "<style scoped>\n",
              "    .dataframe tbody tr th:only-of-type {\n",
              "        vertical-align: middle;\n",
              "    }\n",
              "\n",
              "    .dataframe tbody tr th {\n",
              "        vertical-align: top;\n",
              "    }\n",
              "\n",
              "    .dataframe thead th {\n",
              "        text-align: right;\n",
              "    }\n",
              "</style>\n",
              "<table border=\"1\" class=\"dataframe\">\n",
              "  <thead>\n",
              "    <tr style=\"text-align: right;\">\n",
              "      <th></th>\n",
              "      <th>n_invoices</th>\n",
              "    </tr>\n",
              "    <tr>\n",
              "      <th>vendor_name</th>\n",
              "      <th></th>\n",
              "    </tr>\n",
              "  </thead>\n",
              "  <tbody>\n",
              "    <tr>\n",
              "      <th>PCARD ONETIME VENDOR</th>\n",
              "      <td>2848</td>\n",
              "    </tr>\n",
              "    <tr>\n",
              "      <th>XCEL ENERGY</th>\n",
              "      <td>892</td>\n",
              "    </tr>\n",
              "    <tr>\n",
              "      <th>MCGUCKIN HARDWARE</th>\n",
              "      <td>722</td>\n",
              "    </tr>\n",
              "    <tr>\n",
              "      <th>HOME DEPOT USA INC</th>\n",
              "      <td>619</td>\n",
              "    </tr>\n",
              "    <tr>\n",
              "      <th>CENTURYLINK</th>\n",
              "      <td>355</td>\n",
              "    </tr>\n",
              "  </tbody>\n",
              "</table>\n",
              "</div>"
            ],
            "text/plain": [
              "                      n_invoices\n",
              "vendor_name                     \n",
              "PCARD ONETIME VENDOR        2848\n",
              "XCEL ENERGY                  892\n",
              "MCGUCKIN HARDWARE            722\n",
              "HOME DEPOT USA INC           619\n",
              "CENTURYLINK                  355"
            ]
          },
          "metadata": {
            "tags": []
          },
          "execution_count": 136
        }
      ]
    }
  ]
}