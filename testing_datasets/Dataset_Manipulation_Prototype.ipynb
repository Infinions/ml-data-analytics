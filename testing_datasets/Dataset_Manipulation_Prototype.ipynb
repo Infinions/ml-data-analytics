{
 "cells": [
  {
   "cell_type": "markdown",
   "metadata": {
    "id": "EOzEGshUNbnu"
   },
   "source": [
    "# Importing required packages"
   ]
  },
  {
   "cell_type": "code",
   "execution_count": 1,
   "metadata": {
    "id": "fs9FTASpafgw"
   },
   "outputs": [],
   "source": [
    "import pandas as pd\n",
    "import matplotlib.pyplot as plt\n",
    "import seaborn as sns"
   ]
  },
  {
   "cell_type": "markdown",
   "metadata": {
    "id": "ytDJ86gBNhqs"
   },
   "source": [
    "# Dataset used for prototyping"
   ]
  },
  {
   "cell_type": "markdown",
   "metadata": {
    "id": "jAdA1OSsNucQ"
   },
   "source": [
    "All the following work must be adjusted to the correct data format, as well as converted to scripts for better handling."
   ]
  },
  {
   "cell_type": "code",
   "execution_count": 120,
   "metadata": {
    "id": "XPc_5xtNbeMW"
   },
   "outputs": [],
   "source": [
    "dataset = pd.read_csv('Accounts_Payable.csv')"
   ]
  },
  {
   "cell_type": "code",
   "execution_count": 121,
   "metadata": {
    "id": "AUxHsHTfDH4h"
   },
   "outputs": [
    {
     "data": {
      "text/html": [
       "<div>\n",
       "<style scoped>\n",
       "    .dataframe tbody tr th:only-of-type {\n",
       "        vertical-align: middle;\n",
       "    }\n",
       "\n",
       "    .dataframe tbody tr th {\n",
       "        vertical-align: top;\n",
       "    }\n",
       "\n",
       "    .dataframe thead th {\n",
       "        text-align: right;\n",
       "    }\n",
       "</style>\n",
       "<table border=\"1\" class=\"dataframe\">\n",
       "  <thead>\n",
       "    <tr style=\"text-align: right;\">\n",
       "      <th></th>\n",
       "      <th>ObjectId</th>\n",
       "      <th>vendor_name</th>\n",
       "      <th>transaction_date</th>\n",
       "      <th>transaction_amount</th>\n",
       "      <th>organization_code</th>\n",
       "      <th>fund</th>\n",
       "      <th>fund_desc</th>\n",
       "      <th>department</th>\n",
       "      <th>department_desc</th>\n",
       "      <th>object_code</th>\n",
       "      <th>account_description</th>\n",
       "    </tr>\n",
       "  </thead>\n",
       "  <tbody>\n",
       "    <tr>\n",
       "      <th>0</th>\n",
       "      <td>1</td>\n",
       "      <td>FIRE AND POLICE PENSION ASSN</td>\n",
       "      <td>2020/12/02 00:00:00</td>\n",
       "      <td>22332.52</td>\n",
       "      <td>110000</td>\n",
       "      <td>1100</td>\n",
       "      <td>General</td>\n",
       "      <td>0</td>\n",
       "      <td>NaN</td>\n",
       "      <td>205180</td>\n",
       "      <td>FPPA Death and Disablity</td>\n",
       "    </tr>\n",
       "    <tr>\n",
       "      <th>1</th>\n",
       "      <td>2</td>\n",
       "      <td>SMITH DAWSON &amp; ANDREWS</td>\n",
       "      <td>2020/12/02 00:00:00</td>\n",
       "      <td>3333.33</td>\n",
       "      <td>11020055</td>\n",
       "      <td>1100</td>\n",
       "      <td>General</td>\n",
       "      <td>110</td>\n",
       "      <td>City Manager's Office</td>\n",
       "      <td>650795</td>\n",
       "      <td>Misc Consultant Services</td>\n",
       "    </tr>\n",
       "    <tr>\n",
       "      <th>2</th>\n",
       "      <td>3</td>\n",
       "      <td>INTERNATIONAL TOWN &amp; GOWN ASSOCIATION</td>\n",
       "      <td>2020/12/02 00:00:00</td>\n",
       "      <td>400.00</td>\n",
       "      <td>12520035</td>\n",
       "      <td>1100</td>\n",
       "      <td>General</td>\n",
       "      <td>125</td>\n",
       "      <td>General Government</td>\n",
       "      <td>675095</td>\n",
       "      <td>Citywide Memberships</td>\n",
       "    </tr>\n",
       "    <tr>\n",
       "      <th>3</th>\n",
       "      <td>4</td>\n",
       "      <td>YEAR ONE, INC</td>\n",
       "      <td>2020/12/02 00:00:00</td>\n",
       "      <td>5270.83</td>\n",
       "      <td>55520210</td>\n",
       "      <td>2500</td>\n",
       "      <td>Open Space</td>\n",
       "      <td>555</td>\n",
       "      <td>Open Space &amp; Mountain Parks</td>\n",
       "      <td>670395</td>\n",
       "      <td>Misc Purchased Services</td>\n",
       "    </tr>\n",
       "    <tr>\n",
       "      <th>4</th>\n",
       "      <td>5</td>\n",
       "      <td>YEAR ONE, INC</td>\n",
       "      <td>2020/12/02 00:00:00</td>\n",
       "      <td>12604.17</td>\n",
       "      <td>55520220</td>\n",
       "      <td>2500</td>\n",
       "      <td>Open Space</td>\n",
       "      <td>555</td>\n",
       "      <td>Open Space &amp; Mountain Parks</td>\n",
       "      <td>670395</td>\n",
       "      <td>Misc Purchased Services</td>\n",
       "    </tr>\n",
       "  </tbody>\n",
       "</table>\n",
       "</div>"
      ],
      "text/plain": [
       "   ObjectId                            vendor_name     transaction_date  \\\n",
       "0         1           FIRE AND POLICE PENSION ASSN  2020/12/02 00:00:00   \n",
       "1         2                 SMITH DAWSON & ANDREWS  2020/12/02 00:00:00   \n",
       "2         3  INTERNATIONAL TOWN & GOWN ASSOCIATION  2020/12/02 00:00:00   \n",
       "3         4                          YEAR ONE, INC  2020/12/02 00:00:00   \n",
       "4         5                          YEAR ONE, INC  2020/12/02 00:00:00   \n",
       "\n",
       "   transaction_amount  organization_code  fund   fund_desc  department  \\\n",
       "0            22332.52             110000  1100     General           0   \n",
       "1             3333.33           11020055  1100     General         110   \n",
       "2              400.00           12520035  1100     General         125   \n",
       "3             5270.83           55520210  2500  Open Space         555   \n",
       "4            12604.17           55520220  2500  Open Space         555   \n",
       "\n",
       "               department_desc  object_code       account_description  \n",
       "0                          NaN       205180  FPPA Death and Disablity  \n",
       "1        City Manager's Office       650795  Misc Consultant Services  \n",
       "2           General Government       675095      Citywide Memberships  \n",
       "3  Open Space & Mountain Parks       670395   Misc Purchased Services  \n",
       "4  Open Space & Mountain Parks       670395   Misc Purchased Services  "
      ]
     },
     "execution_count": 121,
     "metadata": {},
     "output_type": "execute_result"
    }
   ],
   "source": [
    "dataset.head()"
   ]
  },
  {
   "cell_type": "markdown",
   "metadata": {},
   "source": [
    "# Dataset adaptation"
   ]
  },
  {
   "cell_type": "code",
   "execution_count": 122,
   "metadata": {},
   "outputs": [],
   "source": [
    "dataset.columns = ['rm','company_seller_name','doc_emission_date','total_value','rm1','rm2','rm3','rm4','tag','rm5','category']"
   ]
  },
  {
   "cell_type": "code",
   "execution_count": 123,
   "metadata": {},
   "outputs": [],
   "source": [
    "from random import choice\n",
    "tags = ['Jantar Natal 2020','Viagem BTB','Despesas Com1','Despesas Com2','','','','','']\n",
    "dataset['tag'] = dataset['tag'].apply(lambda t: choice(tags))"
   ]
  },
  {
   "cell_type": "code",
   "execution_count": 124,
   "metadata": {
    "scrolled": true
   },
   "outputs": [
    {
     "data": {
      "text/html": [
       "<div>\n",
       "<style scoped>\n",
       "    .dataframe tbody tr th:only-of-type {\n",
       "        vertical-align: middle;\n",
       "    }\n",
       "\n",
       "    .dataframe tbody tr th {\n",
       "        vertical-align: top;\n",
       "    }\n",
       "\n",
       "    .dataframe thead th {\n",
       "        text-align: right;\n",
       "    }\n",
       "</style>\n",
       "<table border=\"1\" class=\"dataframe\">\n",
       "  <thead>\n",
       "    <tr style=\"text-align: right;\">\n",
       "      <th></th>\n",
       "      <th>rm</th>\n",
       "      <th>company_seller_name</th>\n",
       "      <th>doc_emission_date</th>\n",
       "      <th>total_value</th>\n",
       "      <th>rm1</th>\n",
       "      <th>rm2</th>\n",
       "      <th>rm3</th>\n",
       "      <th>rm4</th>\n",
       "      <th>tag</th>\n",
       "      <th>rm5</th>\n",
       "      <th>category</th>\n",
       "    </tr>\n",
       "  </thead>\n",
       "  <tbody>\n",
       "    <tr>\n",
       "      <th>0</th>\n",
       "      <td>261839</td>\n",
       "      <td>LARRY RODGERS DESIGN GROUP</td>\n",
       "      <td>2005/05/26 00:00:00</td>\n",
       "      <td>10000.0</td>\n",
       "      <td>51595030</td>\n",
       "      <td>3300</td>\n",
       "      <td>Permanent Parks &amp; Recreation</td>\n",
       "      <td>515</td>\n",
       "      <td>Viagem BTB</td>\n",
       "      <td>650710</td>\n",
       "      <td>Architectural Consultants</td>\n",
       "    </tr>\n",
       "    <tr>\n",
       "      <th>1</th>\n",
       "      <td>261838</td>\n",
       "      <td>QUALITY OF COLORADO, INC</td>\n",
       "      <td>2010/05/29 00:00:00</td>\n",
       "      <td>357.1</td>\n",
       "      <td>51523500</td>\n",
       "      <td>2180</td>\n",
       "      <td>.25 Cent Sales Tax</td>\n",
       "      <td>515</td>\n",
       "      <td></td>\n",
       "      <td>670395</td>\n",
       "      <td>Misc Purchased Services</td>\n",
       "    </tr>\n",
       "    <tr>\n",
       "      <th>2</th>\n",
       "      <td>261837</td>\n",
       "      <td>BRENNER, LEAH</td>\n",
       "      <td>2012/10/07 00:00:00</td>\n",
       "      <td>750.0</td>\n",
       "      <td>51010080</td>\n",
       "      <td>1100</td>\n",
       "      <td>General</td>\n",
       "      <td>510</td>\n",
       "      <td>Despesas Com2</td>\n",
       "      <td>670395</td>\n",
       "      <td>Misc Purchased Services</td>\n",
       "    </tr>\n",
       "    <tr>\n",
       "      <th>3</th>\n",
       "      <td>261836</td>\n",
       "      <td>ANDREWS FARWELL DITCH AND RESERVOIR COMPANY</td>\n",
       "      <td>2013/03/07 00:00:00</td>\n",
       "      <td>170.0</td>\n",
       "      <td>55520190</td>\n",
       "      <td>2500</td>\n",
       "      <td>Open Space</td>\n",
       "      <td>555</td>\n",
       "      <td></td>\n",
       "      <td>670078</td>\n",
       "      <td>Water &amp; Ditch Assmts: Other</td>\n",
       "    </tr>\n",
       "    <tr>\n",
       "      <th>4</th>\n",
       "      <td>261835</td>\n",
       "      <td>FARIS MACHINERY COMPANY</td>\n",
       "      <td>2013/06/30 00:00:00</td>\n",
       "      <td>260.1</td>\n",
       "      <td>61015080</td>\n",
       "      <td>6300</td>\n",
       "      <td>Stormwater &amp; Flood Mgt Utility</td>\n",
       "      <td>610</td>\n",
       "      <td>Despesas Com1</td>\n",
       "      <td>660845</td>\n",
       "      <td>R&amp;M: Vehicles</td>\n",
       "    </tr>\n",
       "  </tbody>\n",
       "</table>\n",
       "</div>"
      ],
      "text/plain": [
       "       rm                          company_seller_name    doc_emission_date  \\\n",
       "0  261839                   LARRY RODGERS DESIGN GROUP  2005/05/26 00:00:00   \n",
       "1  261838                     QUALITY OF COLORADO, INC  2010/05/29 00:00:00   \n",
       "2  261837                                BRENNER, LEAH  2012/10/07 00:00:00   \n",
       "3  261836  ANDREWS FARWELL DITCH AND RESERVOIR COMPANY  2013/03/07 00:00:00   \n",
       "4  261835                      FARIS MACHINERY COMPANY  2013/06/30 00:00:00   \n",
       "\n",
       "   total_value       rm1   rm2                             rm3  rm4  \\\n",
       "0      10000.0  51595030  3300    Permanent Parks & Recreation  515   \n",
       "1        357.1  51523500  2180              .25 Cent Sales Tax  515   \n",
       "2        750.0  51010080  1100                         General  510   \n",
       "3        170.0  55520190  2500                      Open Space  555   \n",
       "4        260.1  61015080  6300  Stormwater & Flood Mgt Utility  610   \n",
       "\n",
       "             tag     rm5                     category  \n",
       "0     Viagem BTB  650710    Architectural Consultants  \n",
       "1                 670395      Misc Purchased Services  \n",
       "2  Despesas Com2  670395      Misc Purchased Services  \n",
       "3                 670078  Water & Ditch Assmts: Other  \n",
       "4  Despesas Com1  660845                R&M: Vehicles  "
      ]
     },
     "execution_count": 124,
     "metadata": {},
     "output_type": "execute_result"
    }
   ],
   "source": [
    "dataset = dataset.sort_values('doc_emission_date')\n",
    "dataset = dataset.reset_index(drop=True)\n",
    "dataset.head()"
   ]
  },
  {
   "cell_type": "code",
   "execution_count": 125,
   "metadata": {},
   "outputs": [
    {
     "data": {
      "text/html": [
       "<div>\n",
       "<style scoped>\n",
       "    .dataframe tbody tr th:only-of-type {\n",
       "        vertical-align: middle;\n",
       "    }\n",
       "\n",
       "    .dataframe tbody tr th {\n",
       "        vertical-align: top;\n",
       "    }\n",
       "\n",
       "    .dataframe thead th {\n",
       "        text-align: right;\n",
       "    }\n",
       "</style>\n",
       "<table border=\"1\" class=\"dataframe\">\n",
       "  <thead>\n",
       "    <tr style=\"text-align: right;\">\n",
       "      <th></th>\n",
       "      <th>company_seller_name</th>\n",
       "      <th>doc_emission_date</th>\n",
       "      <th>total_value</th>\n",
       "      <th>tag</th>\n",
       "      <th>category</th>\n",
       "    </tr>\n",
       "  </thead>\n",
       "  <tbody>\n",
       "    <tr>\n",
       "      <th>0</th>\n",
       "      <td>LARRY RODGERS DESIGN GROUP</td>\n",
       "      <td>2005/05/26 00:00:00</td>\n",
       "      <td>10000.0</td>\n",
       "      <td>Viagem BTB</td>\n",
       "      <td>Architectural Consultants</td>\n",
       "    </tr>\n",
       "    <tr>\n",
       "      <th>1</th>\n",
       "      <td>QUALITY OF COLORADO, INC</td>\n",
       "      <td>2010/05/29 00:00:00</td>\n",
       "      <td>357.1</td>\n",
       "      <td></td>\n",
       "      <td>Misc Purchased Services</td>\n",
       "    </tr>\n",
       "    <tr>\n",
       "      <th>2</th>\n",
       "      <td>BRENNER, LEAH</td>\n",
       "      <td>2012/10/07 00:00:00</td>\n",
       "      <td>750.0</td>\n",
       "      <td>Despesas Com2</td>\n",
       "      <td>Misc Purchased Services</td>\n",
       "    </tr>\n",
       "    <tr>\n",
       "      <th>3</th>\n",
       "      <td>ANDREWS FARWELL DITCH AND RESERVOIR COMPANY</td>\n",
       "      <td>2013/03/07 00:00:00</td>\n",
       "      <td>170.0</td>\n",
       "      <td></td>\n",
       "      <td>Water &amp; Ditch Assmts: Other</td>\n",
       "    </tr>\n",
       "    <tr>\n",
       "      <th>4</th>\n",
       "      <td>FARIS MACHINERY COMPANY</td>\n",
       "      <td>2013/06/30 00:00:00</td>\n",
       "      <td>260.1</td>\n",
       "      <td>Despesas Com1</td>\n",
       "      <td>R&amp;M: Vehicles</td>\n",
       "    </tr>\n",
       "  </tbody>\n",
       "</table>\n",
       "</div>"
      ],
      "text/plain": [
       "                           company_seller_name    doc_emission_date  \\\n",
       "0                   LARRY RODGERS DESIGN GROUP  2005/05/26 00:00:00   \n",
       "1                     QUALITY OF COLORADO, INC  2010/05/29 00:00:00   \n",
       "2                                BRENNER, LEAH  2012/10/07 00:00:00   \n",
       "3  ANDREWS FARWELL DITCH AND RESERVOIR COMPANY  2013/03/07 00:00:00   \n",
       "4                      FARIS MACHINERY COMPANY  2013/06/30 00:00:00   \n",
       "\n",
       "   total_value            tag                     category  \n",
       "0      10000.0     Viagem BTB    Architectural Consultants  \n",
       "1        357.1                     Misc Purchased Services  \n",
       "2        750.0  Despesas Com2      Misc Purchased Services  \n",
       "3        170.0                 Water & Ditch Assmts: Other  \n",
       "4        260.1  Despesas Com1                R&M: Vehicles  "
      ]
     },
     "execution_count": 125,
     "metadata": {},
     "output_type": "execute_result"
    }
   ],
   "source": [
    "dataset = dataset.drop(['rm','rm2','rm3','rm4','rm5','rm1'], axis=1)\n",
    "dataset.head()"
   ]
  },
  {
   "cell_type": "code",
   "execution_count": 126,
   "metadata": {
    "colab": {
     "base_uri": "https://localhost:8080/",
     "height": 309
    },
    "id": "p2_ghVm5dhlR",
    "outputId": "572bca3a-bfff-4fdb-9973-bfbf3a80ae61"
   },
   "outputs": [
    {
     "data": {
      "text/html": [
       "<div>\n",
       "<style scoped>\n",
       "    .dataframe tbody tr th:only-of-type {\n",
       "        vertical-align: middle;\n",
       "    }\n",
       "\n",
       "    .dataframe tbody tr th {\n",
       "        vertical-align: top;\n",
       "    }\n",
       "\n",
       "    .dataframe thead th {\n",
       "        text-align: right;\n",
       "    }\n",
       "</style>\n",
       "<table border=\"1\" class=\"dataframe\">\n",
       "  <thead>\n",
       "    <tr style=\"text-align: right;\">\n",
       "      <th></th>\n",
       "      <th>company_seller_name</th>\n",
       "      <th>doc_emission_date</th>\n",
       "      <th>total_value</th>\n",
       "      <th>tag</th>\n",
       "      <th>category</th>\n",
       "      <th>id_document</th>\n",
       "    </tr>\n",
       "  </thead>\n",
       "  <tbody>\n",
       "    <tr>\n",
       "      <th>261929</th>\n",
       "      <td>GOLD STAR CONCRETE INC</td>\n",
       "      <td>2020/12/02 00:00:00</td>\n",
       "      <td>36350.50</td>\n",
       "      <td></td>\n",
       "      <td>Retainage Payable</td>\n",
       "      <td>FT 261929</td>\n",
       "    </tr>\n",
       "    <tr>\n",
       "      <th>261930</th>\n",
       "      <td>AMERICAN CONSERVATION EXPERIENCE</td>\n",
       "      <td>2020/12/02 00:00:00</td>\n",
       "      <td>51328.55</td>\n",
       "      <td></td>\n",
       "      <td>Misc Purchased Services</td>\n",
       "      <td>FT 261930</td>\n",
       "    </tr>\n",
       "    <tr>\n",
       "      <th>261931</th>\n",
       "      <td>HYDROLOGIK, LLC</td>\n",
       "      <td>2020/12/02 00:00:00</td>\n",
       "      <td>54.00</td>\n",
       "      <td></td>\n",
       "      <td>Cellular Phone Service</td>\n",
       "      <td>FT 261931</td>\n",
       "    </tr>\n",
       "    <tr>\n",
       "      <th>261932</th>\n",
       "      <td>LAWRENCE CONSTRUCTION COMPANY</td>\n",
       "      <td>2020/12/02 00:00:00</td>\n",
       "      <td>114158.01</td>\n",
       "      <td></td>\n",
       "      <td>Retainage Payable</td>\n",
       "      <td>FT 261932</td>\n",
       "    </tr>\n",
       "    <tr>\n",
       "      <th>261933</th>\n",
       "      <td>FIRE AND POLICE PENSION ASSN</td>\n",
       "      <td>2020/12/02 00:00:00</td>\n",
       "      <td>22332.52</td>\n",
       "      <td></td>\n",
       "      <td>FPPA Death and Disablity</td>\n",
       "      <td>FT 261933</td>\n",
       "    </tr>\n",
       "  </tbody>\n",
       "</table>\n",
       "</div>"
      ],
      "text/plain": [
       "                     company_seller_name    doc_emission_date  total_value  \\\n",
       "261929            GOLD STAR CONCRETE INC  2020/12/02 00:00:00     36350.50   \n",
       "261930  AMERICAN CONSERVATION EXPERIENCE  2020/12/02 00:00:00     51328.55   \n",
       "261931                   HYDROLOGIK, LLC  2020/12/02 00:00:00        54.00   \n",
       "261932     LAWRENCE CONSTRUCTION COMPANY  2020/12/02 00:00:00    114158.01   \n",
       "261933      FIRE AND POLICE PENSION ASSN  2020/12/02 00:00:00     22332.52   \n",
       "\n",
       "       tag                  category id_document  \n",
       "261929             Retainage Payable   FT 261929  \n",
       "261930       Misc Purchased Services   FT 261930  \n",
       "261931        Cellular Phone Service   FT 261931  \n",
       "261932             Retainage Payable   FT 261932  \n",
       "261933      FPPA Death and Disablity   FT 261933  "
      ]
     },
     "execution_count": 126,
     "metadata": {},
     "output_type": "execute_result"
    }
   ],
   "source": [
    "doc_id_template = \"FT {:06d}\"\n",
    "\n",
    "i = 0\n",
    "for index, row in dataset.iterrows():\n",
    "    dataset.at[index,'id_document'] = doc_id_template.format(i)\n",
    "    i += 1\n",
    "dataset.tail()"
   ]
  },
  {
   "cell_type": "code",
   "execution_count": 127,
   "metadata": {},
   "outputs": [],
   "source": [
    "dataset['doc_emission_date'] = pd.to_datetime(dataset.doc_emission_date)"
   ]
  },
  {
   "cell_type": "code",
   "execution_count": 128,
   "metadata": {},
   "outputs": [],
   "source": [
    "dataset.to_csv('accounts_payable_v2_complete_adapted.csv', index=False)"
   ]
  },
  {
   "cell_type": "markdown",
   "metadata": {},
   "source": [
    "## Recomendation System"
   ]
  },
  {
   "cell_type": "code",
   "execution_count": 80,
   "metadata": {
    "scrolled": true
   },
   "outputs": [
    {
     "data": {
      "text/html": [
       "<div>\n",
       "<style scoped>\n",
       "    .dataframe tbody tr th:only-of-type {\n",
       "        vertical-align: middle;\n",
       "    }\n",
       "\n",
       "    .dataframe tbody tr th {\n",
       "        vertical-align: top;\n",
       "    }\n",
       "\n",
       "    .dataframe thead th {\n",
       "        text-align: right;\n",
       "    }\n",
       "</style>\n",
       "<table border=\"1\" class=\"dataframe\">\n",
       "  <thead>\n",
       "    <tr style=\"text-align: right;\">\n",
       "      <th></th>\n",
       "      <th>company_seller_name</th>\n",
       "      <th>doc_emission_date</th>\n",
       "      <th>total_value</th>\n",
       "      <th>tag</th>\n",
       "      <th>category</th>\n",
       "      <th>id_document</th>\n",
       "    </tr>\n",
       "  </thead>\n",
       "  <tbody>\n",
       "    <tr>\n",
       "      <th>0</th>\n",
       "      <td>PARKS &amp; GARDENS LLC</td>\n",
       "      <td>2020-01-01</td>\n",
       "      <td>11665.30</td>\n",
       "      <td>Despesas Com1</td>\n",
       "      <td>Misc Purchased Services</td>\n",
       "      <td>FT 20/000000</td>\n",
       "    </tr>\n",
       "    <tr>\n",
       "      <th>1</th>\n",
       "      <td>ALLIANCE FOR WATER EFFICIENCY</td>\n",
       "      <td>2020-01-01</td>\n",
       "      <td>1000.00</td>\n",
       "      <td>NaN</td>\n",
       "      <td>Empl Dues, Mbr, Lic, and Certs</td>\n",
       "      <td>FT 20/000001</td>\n",
       "    </tr>\n",
       "    <tr>\n",
       "      <th>2</th>\n",
       "      <td>TWA INC</td>\n",
       "      <td>2020-01-01</td>\n",
       "      <td>11525.00</td>\n",
       "      <td>Despesas Com1</td>\n",
       "      <td>R&amp;M: Mowing and Landscaping</td>\n",
       "      <td>FT 20/000002</td>\n",
       "    </tr>\n",
       "    <tr>\n",
       "      <th>3</th>\n",
       "      <td>ONLINE COMPUTER LIBRARY CENTER, INC</td>\n",
       "      <td>2020-01-01</td>\n",
       "      <td>248.43</td>\n",
       "      <td>NaN</td>\n",
       "      <td>Lib:ILL</td>\n",
       "      <td>FT 20/000003</td>\n",
       "    </tr>\n",
       "    <tr>\n",
       "      <th>4</th>\n",
       "      <td>SESAC RIGHTS MANAGEMENT, INC.</td>\n",
       "      <td>2020-01-01</td>\n",
       "      <td>498.66</td>\n",
       "      <td>NaN</td>\n",
       "      <td>Misc Rentals &amp; Leases</td>\n",
       "      <td>FT 20/000004</td>\n",
       "    </tr>\n",
       "  </tbody>\n",
       "</table>\n",
       "</div>"
      ],
      "text/plain": [
       "                   company_seller_name doc_emission_date  total_value  \\\n",
       "0                  PARKS & GARDENS LLC        2020-01-01     11665.30   \n",
       "1        ALLIANCE FOR WATER EFFICIENCY        2020-01-01      1000.00   \n",
       "2                              TWA INC        2020-01-01     11525.00   \n",
       "3  ONLINE COMPUTER LIBRARY CENTER, INC        2020-01-01       248.43   \n",
       "4        SESAC RIGHTS MANAGEMENT, INC.        2020-01-01       498.66   \n",
       "\n",
       "             tag                        category   id_document  \n",
       "0  Despesas Com1         Misc Purchased Services  FT 20/000000  \n",
       "1            NaN  Empl Dues, Mbr, Lic, and Certs  FT 20/000001  \n",
       "2  Despesas Com1     R&M: Mowing and Landscaping  FT 20/000002  \n",
       "3            NaN                         Lib:ILL  FT 20/000003  \n",
       "4            NaN           Misc Rentals & Leases  FT 20/000004  "
      ]
     },
     "execution_count": 80,
     "metadata": {},
     "output_type": "execute_result"
    }
   ],
   "source": [
    "dataset = pd.read_csv('accounts_payable_2020_adapted.csv')\n",
    "dataset.head()"
   ]
  },
  {
   "cell_type": "code",
   "execution_count": 102,
   "metadata": {},
   "outputs": [
    {
     "name": "stdout",
     "output_type": "stream",
     "text": [
      "<class 'pandas.core.frame.DataFrame'>\n",
      "RangeIndex: 24436 entries, 0 to 24435\n",
      "Data columns (total 6 columns):\n",
      " #   Column               Non-Null Count  Dtype         \n",
      "---  ------               --------------  -----         \n",
      " 0   company_seller_name  24436 non-null  object        \n",
      " 1   doc_emission_date    24436 non-null  datetime64[ns]\n",
      " 2   total_value          24436 non-null  float64       \n",
      " 3   tag                  10876 non-null  object        \n",
      " 4   category             24436 non-null  object        \n",
      " 5   id_document          24436 non-null  object        \n",
      "dtypes: datetime64[ns](1), float64(1), object(4)\n",
      "memory usage: 1.1+ MB\n"
     ]
    }
   ],
   "source": [
    "dataset['doc_emission_date'] = pd.to_datetime(dataset.doc_emission_date)\n",
    "dataset.info()"
   ]
  },
  {
   "cell_type": "code",
   "execution_count": 103,
   "metadata": {
    "scrolled": true
   },
   "outputs": [
    {
     "data": {
      "text/html": [
       "<div>\n",
       "<style scoped>\n",
       "    .dataframe tbody tr th:only-of-type {\n",
       "        vertical-align: middle;\n",
       "    }\n",
       "\n",
       "    .dataframe tbody tr th {\n",
       "        vertical-align: top;\n",
       "    }\n",
       "\n",
       "    .dataframe thead th {\n",
       "        text-align: right;\n",
       "    }\n",
       "</style>\n",
       "<table border=\"1\" class=\"dataframe\">\n",
       "  <thead>\n",
       "    <tr style=\"text-align: right;\">\n",
       "      <th></th>\n",
       "      <th>company_seller_name</th>\n",
       "      <th>doc_emission_date</th>\n",
       "      <th>total_value</th>\n",
       "      <th>tag</th>\n",
       "      <th>category</th>\n",
       "      <th>id_document</th>\n",
       "      <th>company_seller_name_cat</th>\n",
       "      <th>category_cat</th>\n",
       "    </tr>\n",
       "  </thead>\n",
       "  <tbody>\n",
       "    <tr>\n",
       "      <th>0</th>\n",
       "      <td>PARKS &amp; GARDENS LLC</td>\n",
       "      <td>2020-01-01</td>\n",
       "      <td>11665.30</td>\n",
       "      <td>Despesas Com1</td>\n",
       "      <td>Misc Purchased Services</td>\n",
       "      <td>FT 20/000000</td>\n",
       "      <td>0</td>\n",
       "      <td>0</td>\n",
       "    </tr>\n",
       "    <tr>\n",
       "      <th>1</th>\n",
       "      <td>ALLIANCE FOR WATER EFFICIENCY</td>\n",
       "      <td>2020-01-01</td>\n",
       "      <td>1000.00</td>\n",
       "      <td>NaN</td>\n",
       "      <td>Empl Dues, Mbr, Lic, and Certs</td>\n",
       "      <td>FT 20/000001</td>\n",
       "      <td>1</td>\n",
       "      <td>1</td>\n",
       "    </tr>\n",
       "    <tr>\n",
       "      <th>2</th>\n",
       "      <td>TWA INC</td>\n",
       "      <td>2020-01-01</td>\n",
       "      <td>11525.00</td>\n",
       "      <td>Despesas Com1</td>\n",
       "      <td>R&amp;M: Mowing and Landscaping</td>\n",
       "      <td>FT 20/000002</td>\n",
       "      <td>2</td>\n",
       "      <td>2</td>\n",
       "    </tr>\n",
       "    <tr>\n",
       "      <th>3</th>\n",
       "      <td>ONLINE COMPUTER LIBRARY CENTER, INC</td>\n",
       "      <td>2020-01-01</td>\n",
       "      <td>248.43</td>\n",
       "      <td>NaN</td>\n",
       "      <td>Lib:ILL</td>\n",
       "      <td>FT 20/000003</td>\n",
       "      <td>3</td>\n",
       "      <td>3</td>\n",
       "    </tr>\n",
       "    <tr>\n",
       "      <th>4</th>\n",
       "      <td>SESAC RIGHTS MANAGEMENT, INC.</td>\n",
       "      <td>2020-01-01</td>\n",
       "      <td>498.66</td>\n",
       "      <td>NaN</td>\n",
       "      <td>Misc Rentals &amp; Leases</td>\n",
       "      <td>FT 20/000004</td>\n",
       "      <td>4</td>\n",
       "      <td>4</td>\n",
       "    </tr>\n",
       "  </tbody>\n",
       "</table>\n",
       "</div>"
      ],
      "text/plain": [
       "                   company_seller_name doc_emission_date  total_value  \\\n",
       "0                  PARKS & GARDENS LLC        2020-01-01     11665.30   \n",
       "1        ALLIANCE FOR WATER EFFICIENCY        2020-01-01      1000.00   \n",
       "2                              TWA INC        2020-01-01     11525.00   \n",
       "3  ONLINE COMPUTER LIBRARY CENTER, INC        2020-01-01       248.43   \n",
       "4        SESAC RIGHTS MANAGEMENT, INC.        2020-01-01       498.66   \n",
       "\n",
       "             tag                        category   id_document  \\\n",
       "0  Despesas Com1         Misc Purchased Services  FT 20/000000   \n",
       "1            NaN  Empl Dues, Mbr, Lic, and Certs  FT 20/000001   \n",
       "2  Despesas Com1     R&M: Mowing and Landscaping  FT 20/000002   \n",
       "3            NaN                         Lib:ILL  FT 20/000003   \n",
       "4            NaN           Misc Rentals & Leases  FT 20/000004   \n",
       "\n",
       "  company_seller_name_cat category_cat  \n",
       "0                       0            0  \n",
       "1                       1            1  \n",
       "2                       2            2  \n",
       "3                       3            3  \n",
       "4                       4            4  "
      ]
     },
     "execution_count": 103,
     "metadata": {},
     "output_type": "execute_result"
    }
   ],
   "source": [
    "dataset_mod = dataset.copy()\n",
    "dataset_mod['company_seller_name_cat'] = pd.factorize(dataset_mod.company_seller_name)[0]\n",
    "dataset_mod['company_seller_name_cat'] = dataset_mod['company_seller_name_cat'].astype(\"category\")\n",
    "\n",
    "dataset_mod['category_cat'] = pd.factorize(dataset_mod.category)[0]\n",
    "dataset_mod['category_cat'] = dataset_mod['category_cat'].astype(\"category\")\n",
    "\n",
    "dataset_mod.head()"
   ]
  },
  {
   "cell_type": "code",
   "execution_count": 104,
   "metadata": {
    "scrolled": true
   },
   "outputs": [
    {
     "data": {
      "text/html": [
       "<div>\n",
       "<style scoped>\n",
       "    .dataframe tbody tr th:only-of-type {\n",
       "        vertical-align: middle;\n",
       "    }\n",
       "\n",
       "    .dataframe tbody tr th {\n",
       "        vertical-align: top;\n",
       "    }\n",
       "\n",
       "    .dataframe thead th {\n",
       "        text-align: right;\n",
       "    }\n",
       "</style>\n",
       "<table border=\"1\" class=\"dataframe\">\n",
       "  <thead>\n",
       "    <tr style=\"text-align: right;\">\n",
       "      <th></th>\n",
       "      <th>company_seller_name</th>\n",
       "      <th>doc_emission_date</th>\n",
       "      <th>total_value</th>\n",
       "      <th>tag</th>\n",
       "      <th>category</th>\n",
       "      <th>id_document</th>\n",
       "      <th>company_seller_name_cat</th>\n",
       "      <th>category_cat</th>\n",
       "    </tr>\n",
       "  </thead>\n",
       "  <tbody>\n",
       "    <tr>\n",
       "      <th>0</th>\n",
       "      <td>PARKS &amp; GARDENS LLC</td>\n",
       "      <td>20200101</td>\n",
       "      <td>11665.30</td>\n",
       "      <td>Despesas Com1</td>\n",
       "      <td>Misc Purchased Services</td>\n",
       "      <td>FT 20/000000</td>\n",
       "      <td>0</td>\n",
       "      <td>0</td>\n",
       "    </tr>\n",
       "    <tr>\n",
       "      <th>1</th>\n",
       "      <td>ALLIANCE FOR WATER EFFICIENCY</td>\n",
       "      <td>20200101</td>\n",
       "      <td>1000.00</td>\n",
       "      <td>NaN</td>\n",
       "      <td>Empl Dues, Mbr, Lic, and Certs</td>\n",
       "      <td>FT 20/000001</td>\n",
       "      <td>1</td>\n",
       "      <td>1</td>\n",
       "    </tr>\n",
       "    <tr>\n",
       "      <th>2</th>\n",
       "      <td>TWA INC</td>\n",
       "      <td>20200101</td>\n",
       "      <td>11525.00</td>\n",
       "      <td>Despesas Com1</td>\n",
       "      <td>R&amp;M: Mowing and Landscaping</td>\n",
       "      <td>FT 20/000002</td>\n",
       "      <td>2</td>\n",
       "      <td>2</td>\n",
       "    </tr>\n",
       "    <tr>\n",
       "      <th>3</th>\n",
       "      <td>ONLINE COMPUTER LIBRARY CENTER, INC</td>\n",
       "      <td>20200101</td>\n",
       "      <td>248.43</td>\n",
       "      <td>NaN</td>\n",
       "      <td>Lib:ILL</td>\n",
       "      <td>FT 20/000003</td>\n",
       "      <td>3</td>\n",
       "      <td>3</td>\n",
       "    </tr>\n",
       "    <tr>\n",
       "      <th>4</th>\n",
       "      <td>SESAC RIGHTS MANAGEMENT, INC.</td>\n",
       "      <td>20200101</td>\n",
       "      <td>498.66</td>\n",
       "      <td>NaN</td>\n",
       "      <td>Misc Rentals &amp; Leases</td>\n",
       "      <td>FT 20/000004</td>\n",
       "      <td>4</td>\n",
       "      <td>4</td>\n",
       "    </tr>\n",
       "  </tbody>\n",
       "</table>\n",
       "</div>"
      ],
      "text/plain": [
       "                   company_seller_name doc_emission_date  total_value  \\\n",
       "0                  PARKS & GARDENS LLC          20200101     11665.30   \n",
       "1        ALLIANCE FOR WATER EFFICIENCY          20200101      1000.00   \n",
       "2                              TWA INC          20200101     11525.00   \n",
       "3  ONLINE COMPUTER LIBRARY CENTER, INC          20200101       248.43   \n",
       "4        SESAC RIGHTS MANAGEMENT, INC.          20200101       498.66   \n",
       "\n",
       "             tag                        category   id_document  \\\n",
       "0  Despesas Com1         Misc Purchased Services  FT 20/000000   \n",
       "1            NaN  Empl Dues, Mbr, Lic, and Certs  FT 20/000001   \n",
       "2  Despesas Com1     R&M: Mowing and Landscaping  FT 20/000002   \n",
       "3            NaN                         Lib:ILL  FT 20/000003   \n",
       "4            NaN           Misc Rentals & Leases  FT 20/000004   \n",
       "\n",
       "  company_seller_name_cat category_cat  \n",
       "0                       0            0  \n",
       "1                       1            1  \n",
       "2                       2            2  \n",
       "3                       3            3  \n",
       "4                       4            4  "
      ]
     },
     "execution_count": 104,
     "metadata": {},
     "output_type": "execute_result"
    }
   ],
   "source": [
    "dataset_mod['doc_emission_date'] = dataset_mod['doc_emission_date'].dt.strftime('%Y%m%d')\n",
    "dataset_mod.head()"
   ]
  },
  {
   "cell_type": "code",
   "execution_count": 116,
   "metadata": {},
   "outputs": [
    {
     "data": {
      "text/plain": [
       "216"
      ]
     },
     "execution_count": 116,
     "metadata": {},
     "output_type": "execute_result"
    }
   ],
   "source": [
    "len(dataset_mod['category_cat'].unique())"
   ]
  },
  {
   "cell_type": "code",
   "execution_count": 105,
   "metadata": {},
   "outputs": [
    {
     "data": {
      "text/plain": [
       "KNeighborsClassifier(n_jobs=-1, weights='distance')"
      ]
     },
     "execution_count": 105,
     "metadata": {},
     "output_type": "execute_result"
    }
   ],
   "source": [
    "from sklearn.neighbors import KNeighborsClassifier\n",
    "\n",
    "model = KNeighborsClassifier(n_jobs=-1, weights='distance')\n",
    "model.fit(dataset_mod[['company_seller_name_cat','doc_emission_date','total_value']], dataset_mod['category_cat'])"
   ]
  },
  {
   "cell_type": "code",
   "execution_count": 114,
   "metadata": {},
   "outputs": [
    {
     "name": "stderr",
     "output_type": "stream",
     "text": [
      "/home/samboi/Documents/repos/ml-data-analytics/env/lib/python3.8/site-packages/sklearn/utils/validation.py:72: FutureWarning: Beginning in version 0.22, arrays of bytes/strings will be converted to decimal numbers if dtype='numeric'. It is recommended that you convert the array to a float dtype before using it in scikit-learn, for example by using your_array = your_array.astype(np.float64).\n",
      "  return f(**kwargs)\n",
      "/home/samboi/Documents/repos/ml-data-analytics/env/lib/python3.8/site-packages/sklearn/utils/validation.py:72: FutureWarning: Beginning in version 0.22, arrays of bytes/strings will be converted to decimal numbers if dtype='numeric'. It is recommended that you convert the array to a float dtype before using it in scikit-learn, for example by using your_array = your_array.astype(np.float64).\n",
      "  return f(**kwargs)\n"
     ]
    },
    {
     "data": {
      "text/plain": [
       "array([4])"
      ]
     },
     "execution_count": 114,
     "metadata": {},
     "output_type": "execute_result"
    }
   ],
   "source": [
    "x = ['4','20200101',498.66]\n",
    "model.predict([x])"
   ]
  },
  {
   "cell_type": "code",
   "execution_count": 57,
   "metadata": {},
   "outputs": [],
   "source": [
    "from keras.layers import Dense,Flatten\n",
    "from keas.model import Sequential\n",
    "\n",
    "model = Sequential()\n",
    "model.add(Dense(128, input_dim=8, activation='relu'))\n",
    "model.add(Dense(64, activation='relu'))\n",
    "model.add(Dense(216, activation='softmax'))\n",
    "\n",
    "model.compile(loss='binary_crossentropy', optimizer='adam', metrics=['accuracy'])"
   ]
  },
  {
   "cell_type": "markdown",
   "metadata": {},
   "source": [
    "### Predictions"
   ]
  },
  {
   "cell_type": "code",
   "execution_count": 69,
   "metadata": {
    "scrolled": true
   },
   "outputs": [
    {
     "data": {
      "text/html": [
       "<div>\n",
       "<style scoped>\n",
       "    .dataframe tbody tr th:only-of-type {\n",
       "        vertical-align: middle;\n",
       "    }\n",
       "\n",
       "    .dataframe tbody tr th {\n",
       "        vertical-align: top;\n",
       "    }\n",
       "\n",
       "    .dataframe thead th {\n",
       "        text-align: right;\n",
       "    }\n",
       "</style>\n",
       "<table border=\"1\" class=\"dataframe\">\n",
       "  <thead>\n",
       "    <tr style=\"text-align: right;\">\n",
       "      <th></th>\n",
       "      <th>company_seller_name</th>\n",
       "      <th>doc_emission_date</th>\n",
       "      <th>total_value</th>\n",
       "      <th>tag</th>\n",
       "      <th>category</th>\n",
       "      <th>id_document</th>\n",
       "    </tr>\n",
       "  </thead>\n",
       "  <tbody>\n",
       "    <tr>\n",
       "      <th>43127</th>\n",
       "      <td>FRONTIER ENVIRONMENTAL SERVICES LLC</td>\n",
       "      <td>2019-12-31</td>\n",
       "      <td>115830.00</td>\n",
       "      <td>NaN</td>\n",
       "      <td>R&amp;M: Miscellaneous</td>\n",
       "      <td>FT 19/043127</td>\n",
       "    </tr>\n",
       "    <tr>\n",
       "      <th>43128</th>\n",
       "      <td>ATEN DESIGN GROUP, INC</td>\n",
       "      <td>2019-12-31</td>\n",
       "      <td>15795.00</td>\n",
       "      <td>NaN</td>\n",
       "      <td>IT Consultants</td>\n",
       "      <td>FT 19/043128</td>\n",
       "    </tr>\n",
       "    <tr>\n",
       "      <th>43129</th>\n",
       "      <td>FLATIRON LAUNDRY SERVICES LLC</td>\n",
       "      <td>2019-12-31</td>\n",
       "      <td>1079.05</td>\n",
       "      <td>NaN</td>\n",
       "      <td>Misc Purchased Services</td>\n",
       "      <td>FT 19/043129</td>\n",
       "    </tr>\n",
       "    <tr>\n",
       "      <th>43130</th>\n",
       "      <td>WISS, JANNEY, ELSTNER ASSOCIATES, INC</td>\n",
       "      <td>2019-12-31</td>\n",
       "      <td>2700.00</td>\n",
       "      <td>NaN</td>\n",
       "      <td>Capital: Infrastructure</td>\n",
       "      <td>FT 19/043130</td>\n",
       "    </tr>\n",
       "    <tr>\n",
       "      <th>43131</th>\n",
       "      <td>UTILITY NOTIFICATION CENTER</td>\n",
       "      <td>2019-12-31</td>\n",
       "      <td>132.06</td>\n",
       "      <td>Despesas Com1</td>\n",
       "      <td>R&amp;M: Miscellaneous</td>\n",
       "      <td>FT 19/043131</td>\n",
       "    </tr>\n",
       "  </tbody>\n",
       "</table>\n",
       "</div>"
      ],
      "text/plain": [
       "                         company_seller_name doc_emission_date  total_value  \\\n",
       "43127    FRONTIER ENVIRONMENTAL SERVICES LLC        2019-12-31    115830.00   \n",
       "43128                 ATEN DESIGN GROUP, INC        2019-12-31     15795.00   \n",
       "43129          FLATIRON LAUNDRY SERVICES LLC        2019-12-31      1079.05   \n",
       "43130  WISS, JANNEY, ELSTNER ASSOCIATES, INC        2019-12-31      2700.00   \n",
       "43131            UTILITY NOTIFICATION CENTER        2019-12-31       132.06   \n",
       "\n",
       "                 tag                 category   id_document  \n",
       "43127            NaN       R&M: Miscellaneous  FT 19/043127  \n",
       "43128            NaN           IT Consultants  FT 19/043128  \n",
       "43129            NaN  Misc Purchased Services  FT 19/043129  \n",
       "43130            NaN  Capital: Infrastructure  FT 19/043130  \n",
       "43131  Despesas Com1       R&M: Miscellaneous  FT 19/043131  "
      ]
     },
     "execution_count": 69,
     "metadata": {},
     "output_type": "execute_result"
    }
   ],
   "source": [
    "dataset19 = pd.read_csv('accounts_payable_2019_adapted.csv')\n",
    "dataset19.tail()"
   ]
  },
  {
   "cell_type": "code",
   "execution_count": 82,
   "metadata": {
    "scrolled": true
   },
   "outputs": [
    {
     "data": {
      "text/html": [
       "<div>\n",
       "<style scoped>\n",
       "    .dataframe tbody tr th:only-of-type {\n",
       "        vertical-align: middle;\n",
       "    }\n",
       "\n",
       "    .dataframe tbody tr th {\n",
       "        vertical-align: top;\n",
       "    }\n",
       "\n",
       "    .dataframe thead th {\n",
       "        text-align: right;\n",
       "    }\n",
       "</style>\n",
       "<table border=\"1\" class=\"dataframe\">\n",
       "  <thead>\n",
       "    <tr style=\"text-align: right;\">\n",
       "      <th></th>\n",
       "      <th>company_seller_name</th>\n",
       "      <th>doc_emission_date</th>\n",
       "      <th>total_value</th>\n",
       "      <th>tag</th>\n",
       "      <th>category</th>\n",
       "      <th>id_document</th>\n",
       "    </tr>\n",
       "  </thead>\n",
       "  <tbody>\n",
       "    <tr>\n",
       "      <th>24431</th>\n",
       "      <td>KEENE CONCRETE INC</td>\n",
       "      <td>2020-10-21</td>\n",
       "      <td>5549.51</td>\n",
       "      <td>NaN</td>\n",
       "      <td>Retainage Payable</td>\n",
       "      <td>FT 20/024431</td>\n",
       "    </tr>\n",
       "    <tr>\n",
       "      <th>24432</th>\n",
       "      <td>KEENE CONCRETE INC</td>\n",
       "      <td>2020-10-21</td>\n",
       "      <td>327.50</td>\n",
       "      <td>Viagem BTB</td>\n",
       "      <td>Retainage Payable</td>\n",
       "      <td>FT 20/024432</td>\n",
       "    </tr>\n",
       "    <tr>\n",
       "      <th>24433</th>\n",
       "      <td>KEENE CONCRETE INC</td>\n",
       "      <td>2020-10-21</td>\n",
       "      <td>4766.58</td>\n",
       "      <td>NaN</td>\n",
       "      <td>Retainage Payable</td>\n",
       "      <td>FT 20/024433</td>\n",
       "    </tr>\n",
       "    <tr>\n",
       "      <th>24434</th>\n",
       "      <td>ANDALE CONSTRUCTION INC</td>\n",
       "      <td>2020-10-21</td>\n",
       "      <td>6012.21</td>\n",
       "      <td>Viagem BTB</td>\n",
       "      <td>Retainage Payable</td>\n",
       "      <td>FT 20/024434</td>\n",
       "    </tr>\n",
       "    <tr>\n",
       "      <th>24435</th>\n",
       "      <td>AMERESCO, INC.</td>\n",
       "      <td>2020-10-21</td>\n",
       "      <td>32433.99</td>\n",
       "      <td>Jantar Natal 2020</td>\n",
       "      <td>Retainage Payable</td>\n",
       "      <td>FT 20/024435</td>\n",
       "    </tr>\n",
       "  </tbody>\n",
       "</table>\n",
       "</div>"
      ],
      "text/plain": [
       "           company_seller_name doc_emission_date  total_value  \\\n",
       "24431       KEENE CONCRETE INC        2020-10-21      5549.51   \n",
       "24432       KEENE CONCRETE INC        2020-10-21       327.50   \n",
       "24433       KEENE CONCRETE INC        2020-10-21      4766.58   \n",
       "24434  ANDALE CONSTRUCTION INC        2020-10-21      6012.21   \n",
       "24435           AMERESCO, INC.        2020-10-21     32433.99   \n",
       "\n",
       "                     tag           category   id_document  \n",
       "24431                NaN  Retainage Payable  FT 20/024431  \n",
       "24432         Viagem BTB  Retainage Payable  FT 20/024432  \n",
       "24433                NaN  Retainage Payable  FT 20/024433  \n",
       "24434         Viagem BTB  Retainage Payable  FT 20/024434  \n",
       "24435  Jantar Natal 2020  Retainage Payable  FT 20/024435  "
      ]
     },
     "execution_count": 82,
     "metadata": {},
     "output_type": "execute_result"
    }
   ],
   "source": [
    "dataset20 = pd.read_csv('accounts_payable_2020_adapted.csv')\n",
    "dataset20.tail()"
   ]
  },
  {
   "cell_type": "code",
   "execution_count": 71,
   "metadata": {
    "scrolled": true
   },
   "outputs": [
    {
     "data": {
      "text/plain": [
       "company_seller_name        PARKS & GARDENS LLC\n",
       "doc_emission_date                   2020-01-01\n",
       "total_value                            11665.3\n",
       "tag                              Despesas Com1\n",
       "category               Misc Purchased Services\n",
       "id_document                       FT 20/000000\n",
       "Name: 0, dtype: object"
      ]
     },
     "execution_count": 71,
     "metadata": {},
     "output_type": "execute_result"
    }
   ],
   "source": [
    "dataset = pd.concat([dataset19,dataset20])\n",
    "dataset.iloc[43132]"
   ]
  },
  {
   "cell_type": "code",
   "execution_count": 2,
   "metadata": {},
   "outputs": [
    {
     "data": {
      "text/html": [
       "<div>\n",
       "<style scoped>\n",
       "    .dataframe tbody tr th:only-of-type {\n",
       "        vertical-align: middle;\n",
       "    }\n",
       "\n",
       "    .dataframe tbody tr th {\n",
       "        vertical-align: top;\n",
       "    }\n",
       "\n",
       "    .dataframe thead th {\n",
       "        text-align: right;\n",
       "    }\n",
       "</style>\n",
       "<table border=\"1\" class=\"dataframe\">\n",
       "  <thead>\n",
       "    <tr style=\"text-align: right;\">\n",
       "      <th></th>\n",
       "      <th>company_seller_name</th>\n",
       "      <th>doc_emission_date</th>\n",
       "      <th>total_value</th>\n",
       "      <th>tag</th>\n",
       "      <th>category</th>\n",
       "      <th>id_document</th>\n",
       "    </tr>\n",
       "  </thead>\n",
       "  <tbody>\n",
       "    <tr>\n",
       "      <th>0</th>\n",
       "      <td>LARRY RODGERS DESIGN GROUP</td>\n",
       "      <td>2005-05-26</td>\n",
       "      <td>10000.0</td>\n",
       "      <td>Viagem BTB</td>\n",
       "      <td>Architectural Consultants</td>\n",
       "      <td>FT 000000</td>\n",
       "    </tr>\n",
       "    <tr>\n",
       "      <th>1</th>\n",
       "      <td>QUALITY OF COLORADO, INC</td>\n",
       "      <td>2010-05-29</td>\n",
       "      <td>357.1</td>\n",
       "      <td>NaN</td>\n",
       "      <td>Misc Purchased Services</td>\n",
       "      <td>FT 000001</td>\n",
       "    </tr>\n",
       "    <tr>\n",
       "      <th>2</th>\n",
       "      <td>BRENNER, LEAH</td>\n",
       "      <td>2012-10-07</td>\n",
       "      <td>750.0</td>\n",
       "      <td>Despesas Com2</td>\n",
       "      <td>Misc Purchased Services</td>\n",
       "      <td>FT 000002</td>\n",
       "    </tr>\n",
       "    <tr>\n",
       "      <th>3</th>\n",
       "      <td>ANDREWS FARWELL DITCH AND RESERVOIR COMPANY</td>\n",
       "      <td>2013-03-07</td>\n",
       "      <td>170.0</td>\n",
       "      <td>NaN</td>\n",
       "      <td>Water &amp; Ditch Assmts: Other</td>\n",
       "      <td>FT 000003</td>\n",
       "    </tr>\n",
       "    <tr>\n",
       "      <th>4</th>\n",
       "      <td>FARIS MACHINERY COMPANY</td>\n",
       "      <td>2013-06-30</td>\n",
       "      <td>260.1</td>\n",
       "      <td>Despesas Com1</td>\n",
       "      <td>R&amp;M: Vehicles</td>\n",
       "      <td>FT 000004</td>\n",
       "    </tr>\n",
       "  </tbody>\n",
       "</table>\n",
       "</div>"
      ],
      "text/plain": [
       "                           company_seller_name doc_emission_date  total_value  \\\n",
       "0                   LARRY RODGERS DESIGN GROUP        2005-05-26      10000.0   \n",
       "1                     QUALITY OF COLORADO, INC        2010-05-29        357.1   \n",
       "2                                BRENNER, LEAH        2012-10-07        750.0   \n",
       "3  ANDREWS FARWELL DITCH AND RESERVOIR COMPANY        2013-03-07        170.0   \n",
       "4                      FARIS MACHINERY COMPANY        2013-06-30        260.1   \n",
       "\n",
       "             tag                     category id_document  \n",
       "0     Viagem BTB    Architectural Consultants   FT 000000  \n",
       "1            NaN      Misc Purchased Services   FT 000001  \n",
       "2  Despesas Com2      Misc Purchased Services   FT 000002  \n",
       "3            NaN  Water & Ditch Assmts: Other   FT 000003  \n",
       "4  Despesas Com1                R&M: Vehicles   FT 000004  "
      ]
     },
     "execution_count": 2,
     "metadata": {},
     "output_type": "execute_result"
    }
   ],
   "source": [
    "dataset = pd.read_csv('accounts_payable_v2_complete_adapted.csv')\n",
    "dataset.head()"
   ]
  },
  {
   "cell_type": "code",
   "execution_count": 3,
   "metadata": {},
   "outputs": [
    {
     "name": "stderr",
     "output_type": "stream",
     "text": [
      "Importing plotly failed. Interactive plots will not work.\n"
     ]
    }
   ],
   "source": [
    "from fbprophet import Prophet"
   ]
  },
  {
   "cell_type": "code",
   "execution_count": 63,
   "metadata": {},
   "outputs": [],
   "source": [
    "def run_prophet(data, resample='D', mode='additive'):\n",
    "    pr_data = dataset[['doc_emission_date','total_value']]\n",
    "    pr_data.columns = ['ds','y']\n",
    "    pr_data['ds'] = pd.to_datetime(pr_data['ds'])\n",
    "\n",
    "    pr_data = pr_data.set_index('ds')\n",
    "    pr_data = pr_data.resample(resample).sum().fillna(0)\n",
    "    pr_data = pr_data.reset_index()\n",
    "    pr_data['y'] = pr_data['y'] / 1000\n",
    "    \n",
    "    model = Prophet(seasonality_mode=mode, weekly_seasonality=True)\n",
    "    \n",
    "    return model, pr_data"
   ]
  },
  {
   "cell_type": "code",
   "execution_count": 7,
   "metadata": {},
   "outputs": [
    {
     "name": "stderr",
     "output_type": "stream",
     "text": [
      "<ipython-input-7-20faf1a47ce0>:2: SettingWithCopyWarning: \n",
      "A value is trying to be set on a copy of a slice from a DataFrame.\n",
      "Try using .loc[row_indexer,col_indexer] = value instead\n",
      "\n",
      "See the caveats in the documentation: https://pandas.pydata.org/pandas-docs/stable/user_guide/indexing.html#returning-a-view-versus-a-copy\n",
      "  tmp_data['doc_emission_date'] = pd.to_datetime(tmp_data['doc_emission_date'])\n"
     ]
    },
    {
     "data": {
      "text/html": [
       "<div>\n",
       "<style scoped>\n",
       "    .dataframe tbody tr th:only-of-type {\n",
       "        vertical-align: middle;\n",
       "    }\n",
       "\n",
       "    .dataframe tbody tr th {\n",
       "        vertical-align: top;\n",
       "    }\n",
       "\n",
       "    .dataframe thead th {\n",
       "        text-align: right;\n",
       "    }\n",
       "</style>\n",
       "<table border=\"1\" class=\"dataframe\">\n",
       "  <thead>\n",
       "    <tr style=\"text-align: right;\">\n",
       "      <th></th>\n",
       "      <th>doc_emission_date</th>\n",
       "      <th>total_value</th>\n",
       "    </tr>\n",
       "  </thead>\n",
       "  <tbody>\n",
       "    <tr>\n",
       "      <th>0</th>\n",
       "      <td>2005-05-26</td>\n",
       "      <td>10000.0</td>\n",
       "    </tr>\n",
       "    <tr>\n",
       "      <th>1</th>\n",
       "      <td>2005-05-27</td>\n",
       "      <td>0.0</td>\n",
       "    </tr>\n",
       "    <tr>\n",
       "      <th>2</th>\n",
       "      <td>2005-05-28</td>\n",
       "      <td>0.0</td>\n",
       "    </tr>\n",
       "    <tr>\n",
       "      <th>3</th>\n",
       "      <td>2005-05-29</td>\n",
       "      <td>0.0</td>\n",
       "    </tr>\n",
       "    <tr>\n",
       "      <th>4</th>\n",
       "      <td>2005-05-30</td>\n",
       "      <td>0.0</td>\n",
       "    </tr>\n",
       "  </tbody>\n",
       "</table>\n",
       "</div>"
      ],
      "text/plain": [
       "  doc_emission_date  total_value\n",
       "0        2005-05-26      10000.0\n",
       "1        2005-05-27          0.0\n",
       "2        2005-05-28          0.0\n",
       "3        2005-05-29          0.0\n",
       "4        2005-05-30          0.0"
      ]
     },
     "execution_count": 7,
     "metadata": {},
     "output_type": "execute_result"
    }
   ],
   "source": [
    "tmp_data = dataset[['doc_emission_date','category','total_value']]\n",
    "tmp_data['doc_emission_date'] = pd.to_datetime(tmp_data['doc_emission_date'])\n",
    "tmp_data = pd.DataFrame(tmp_data.groupby([pd.Grouper(key=\"doc_emission_date\", freq='D')])['total_value'].sum())\n",
    "tmp_data = tmp_data.reset_index()\n",
    "tmp_data.head()"
   ]
  },
  {
   "cell_type": "code",
   "execution_count": 110,
   "metadata": {},
   "outputs": [
    {
     "data": {
      "text/html": [
       "<div>\n",
       "<style scoped>\n",
       "    .dataframe tbody tr th:only-of-type {\n",
       "        vertical-align: middle;\n",
       "    }\n",
       "\n",
       "    .dataframe tbody tr th {\n",
       "        vertical-align: top;\n",
       "    }\n",
       "\n",
       "    .dataframe thead th {\n",
       "        text-align: right;\n",
       "    }\n",
       "</style>\n",
       "<table border=\"1\" class=\"dataframe\">\n",
       "  <thead>\n",
       "    <tr style=\"text-align: right;\">\n",
       "      <th></th>\n",
       "      <th>ds</th>\n",
       "      <th>y</th>\n",
       "    </tr>\n",
       "  </thead>\n",
       "  <tbody>\n",
       "    <tr>\n",
       "      <th>17</th>\n",
       "      <td>2020-06-30</td>\n",
       "      <td>17747.01642</td>\n",
       "    </tr>\n",
       "    <tr>\n",
       "      <th>18</th>\n",
       "      <td>2020-07-31</td>\n",
       "      <td>17935.97640</td>\n",
       "    </tr>\n",
       "    <tr>\n",
       "      <th>19</th>\n",
       "      <td>2020-08-31</td>\n",
       "      <td>19706.13667</td>\n",
       "    </tr>\n",
       "    <tr>\n",
       "      <th>20</th>\n",
       "      <td>2020-09-30</td>\n",
       "      <td>19170.24073</td>\n",
       "    </tr>\n",
       "    <tr>\n",
       "      <th>21</th>\n",
       "      <td>2020-10-31</td>\n",
       "      <td>9587.75389</td>\n",
       "    </tr>\n",
       "  </tbody>\n",
       "</table>\n",
       "</div>"
      ],
      "text/plain": [
       "           ds            y\n",
       "17 2020-06-30  17747.01642\n",
       "18 2020-07-31  17935.97640\n",
       "19 2020-08-31  19706.13667\n",
       "20 2020-09-30  19170.24073\n",
       "21 2020-10-31   9587.75389"
      ]
     },
     "execution_count": 110,
     "metadata": {},
     "output_type": "execute_result"
    }
   ],
   "source": [
    "data_used.tail()"
   ]
  },
  {
   "cell_type": "code",
   "execution_count": 148,
   "metadata": {},
   "outputs": [
    {
     "name": "stderr",
     "output_type": "stream",
     "text": [
      "<ipython-input-148-896492a2b864>:2: RuntimeWarning: Second argument 'y' is ambiguous: could be a format string but is in 'data'; using as data.  If it was intended as data, set the format string to an empty string to suppress this warning.  If it was intended as a format string, explicitly pass the x-values as well.  Alternatively, rename the entry in 'data'.\n",
      "  plt.plot('ds','y',data=data_used, color='green')\n"
     ]
    },
    {
     "data": {
      "text/plain": [
       "[<matplotlib.lines.Line2D at 0x7f271066a5b0>]"
      ]
     },
     "execution_count": 148,
     "metadata": {},
     "output_type": "execute_result"
    },
    {
     "data": {
      "image/png": "[encoded data removed]",
      "text/plain": [
       "<Figure size 1440x720 with 1 Axes>"
      ]
     },
     "metadata": {
      "needs_background": "light"
     },
     "output_type": "display_data"
    }
   ],
   "source": [
    "plt.figure(figsize=(20,10))\n",
    "plt.plot('ds','y',data=data_used, color='green')"
   ]
  },
  {
   "cell_type": "code",
   "execution_count": 145,
   "metadata": {
    "scrolled": false
   },
   "outputs": [
    {
     "data": {
      "image/png": "[encoded data removed]",
      "text/plain": [
       "<Figure size 720x432 with 1 Axes>"
      ]
     },
     "metadata": {},
     "output_type": "display_data"
    }
   ],
   "source": [
    "from fbprophet.plot import plot_yearly\n",
    "\n",
    "a = plot_yearly(model)"
   ]
  },
  {
   "cell_type": "code",
   "execution_count": 91,
   "metadata": {},
   "outputs": [
    {
     "data": {
      "text/html": [
       "<div>\n",
       "<style scoped>\n",
       "    .dataframe tbody tr th:only-of-type {\n",
       "        vertical-align: middle;\n",
       "    }\n",
       "\n",
       "    .dataframe tbody tr th {\n",
       "        vertical-align: top;\n",
       "    }\n",
       "\n",
       "    .dataframe thead th {\n",
       "        text-align: right;\n",
       "    }\n",
       "</style>\n",
       "<table border=\"1\" class=\"dataframe\">\n",
       "  <thead>\n",
       "    <tr style=\"text-align: right;\">\n",
       "      <th></th>\n",
       "      <th>ds</th>\n",
       "      <th>trend</th>\n",
       "      <th>yhat_lower</th>\n",
       "      <th>yhat_upper</th>\n",
       "      <th>trend_lower</th>\n",
       "      <th>trend_upper</th>\n",
       "      <th>additive_terms</th>\n",
       "      <th>additive_terms_lower</th>\n",
       "      <th>additive_terms_upper</th>\n",
       "      <th>multiplicative_terms</th>\n",
       "      <th>multiplicative_terms_lower</th>\n",
       "      <th>multiplicative_terms_upper</th>\n",
       "      <th>yhat</th>\n",
       "    </tr>\n",
       "  </thead>\n",
       "  <tbody>\n",
       "    <tr>\n",
       "      <th>0</th>\n",
       "      <td>2019-01-31</td>\n",
       "      <td>23848.453105</td>\n",
       "      <td>16594.150916</td>\n",
       "      <td>31432.970617</td>\n",
       "      <td>23848.453105</td>\n",
       "      <td>23848.453105</td>\n",
       "      <td>0.0</td>\n",
       "      <td>0.0</td>\n",
       "      <td>0.0</td>\n",
       "      <td>0.0</td>\n",
       "      <td>0.0</td>\n",
       "      <td>0.0</td>\n",
       "      <td>23848.453105</td>\n",
       "    </tr>\n",
       "    <tr>\n",
       "      <th>1</th>\n",
       "      <td>2019-02-28</td>\n",
       "      <td>23642.680632</td>\n",
       "      <td>16629.669714</td>\n",
       "      <td>30844.974823</td>\n",
       "      <td>23642.680632</td>\n",
       "      <td>23642.680632</td>\n",
       "      <td>0.0</td>\n",
       "      <td>0.0</td>\n",
       "      <td>0.0</td>\n",
       "      <td>0.0</td>\n",
       "      <td>0.0</td>\n",
       "      <td>0.0</td>\n",
       "      <td>23642.680632</td>\n",
       "    </tr>\n",
       "    <tr>\n",
       "      <th>2</th>\n",
       "      <td>2019-03-31</td>\n",
       "      <td>23414.861109</td>\n",
       "      <td>16292.835965</td>\n",
       "      <td>30730.510904</td>\n",
       "      <td>23414.861109</td>\n",
       "      <td>23414.861109</td>\n",
       "      <td>0.0</td>\n",
       "      <td>0.0</td>\n",
       "      <td>0.0</td>\n",
       "      <td>0.0</td>\n",
       "      <td>0.0</td>\n",
       "      <td>0.0</td>\n",
       "      <td>23414.861109</td>\n",
       "    </tr>\n",
       "    <tr>\n",
       "      <th>3</th>\n",
       "      <td>2019-04-30</td>\n",
       "      <td>23194.390602</td>\n",
       "      <td>15793.800500</td>\n",
       "      <td>29690.482292</td>\n",
       "      <td>23194.390602</td>\n",
       "      <td>23194.390602</td>\n",
       "      <td>0.0</td>\n",
       "      <td>0.0</td>\n",
       "      <td>0.0</td>\n",
       "      <td>0.0</td>\n",
       "      <td>0.0</td>\n",
       "      <td>0.0</td>\n",
       "      <td>23194.390602</td>\n",
       "    </tr>\n",
       "    <tr>\n",
       "      <th>4</th>\n",
       "      <td>2019-05-31</td>\n",
       "      <td>22966.571078</td>\n",
       "      <td>15593.683181</td>\n",
       "      <td>30790.923351</td>\n",
       "      <td>22966.571078</td>\n",
       "      <td>22966.571078</td>\n",
       "      <td>0.0</td>\n",
       "      <td>0.0</td>\n",
       "      <td>0.0</td>\n",
       "      <td>0.0</td>\n",
       "      <td>0.0</td>\n",
       "      <td>0.0</td>\n",
       "      <td>22966.571078</td>\n",
       "    </tr>\n",
       "  </tbody>\n",
       "</table>\n",
       "</div>"
      ],
      "text/plain": [
       "          ds         trend    yhat_lower    yhat_upper   trend_lower  \\\n",
       "0 2019-01-31  23848.453105  16594.150916  31432.970617  23848.453105   \n",
       "1 2019-02-28  23642.680632  16629.669714  30844.974823  23642.680632   \n",
       "2 2019-03-31  23414.861109  16292.835965  30730.510904  23414.861109   \n",
       "3 2019-04-30  23194.390602  15793.800500  29690.482292  23194.390602   \n",
       "4 2019-05-31  22966.571078  15593.683181  30790.923351  22966.571078   \n",
       "\n",
       "    trend_upper  additive_terms  additive_terms_lower  additive_terms_upper  \\\n",
       "0  23848.453105             0.0                   0.0                   0.0   \n",
       "1  23642.680632             0.0                   0.0                   0.0   \n",
       "2  23414.861109             0.0                   0.0                   0.0   \n",
       "3  23194.390602             0.0                   0.0                   0.0   \n",
       "4  22966.571078             0.0                   0.0                   0.0   \n",
       "\n",
       "   multiplicative_terms  multiplicative_terms_lower  \\\n",
       "0                   0.0                         0.0   \n",
       "1                   0.0                         0.0   \n",
       "2                   0.0                         0.0   \n",
       "3                   0.0                         0.0   \n",
       "4                   0.0                         0.0   \n",
       "\n",
       "   multiplicative_terms_upper          yhat  \n",
       "0                         0.0  23848.453105  \n",
       "1                         0.0  23642.680632  \n",
       "2                         0.0  23414.861109  \n",
       "3                         0.0  23194.390602  \n",
       "4                         0.0  22966.571078  "
      ]
     },
     "execution_count": 91,
     "metadata": {},
     "output_type": "execute_result"
    }
   ],
   "source": [
    "forecast.head()"
   ]
  },
  {
   "cell_type": "code",
   "execution_count": 86,
   "metadata": {},
   "outputs": [
    {
     "data": {
      "text/html": [
       "<div>\n",
       "<style scoped>\n",
       "    .dataframe tbody tr th:only-of-type {\n",
       "        vertical-align: middle;\n",
       "    }\n",
       "\n",
       "    .dataframe tbody tr th {\n",
       "        vertical-align: top;\n",
       "    }\n",
       "\n",
       "    .dataframe thead th {\n",
       "        text-align: right;\n",
       "    }\n",
       "</style>\n",
       "<table border=\"1\" class=\"dataframe\">\n",
       "  <thead>\n",
       "    <tr style=\"text-align: right;\">\n",
       "      <th></th>\n",
       "      <th>ds</th>\n",
       "    </tr>\n",
       "  </thead>\n",
       "  <tbody>\n",
       "    <tr>\n",
       "      <th>447</th>\n",
       "      <td>2021-12-31</td>\n",
       "    </tr>\n",
       "    <tr>\n",
       "      <th>448</th>\n",
       "      <td>2022-01-01</td>\n",
       "    </tr>\n",
       "    <tr>\n",
       "      <th>449</th>\n",
       "      <td>2022-01-02</td>\n",
       "    </tr>\n",
       "    <tr>\n",
       "      <th>450</th>\n",
       "      <td>2022-01-03</td>\n",
       "    </tr>\n",
       "    <tr>\n",
       "      <th>451</th>\n",
       "      <td>2022-01-04</td>\n",
       "    </tr>\n",
       "  </tbody>\n",
       "</table>\n",
       "</div>"
      ],
      "text/plain": [
       "            ds\n",
       "447 2021-12-31\n",
       "448 2022-01-01\n",
       "449 2022-01-02\n",
       "450 2022-01-03\n",
       "451 2022-01-04"
      ]
     },
     "execution_count": 86,
     "metadata": {},
     "output_type": "execute_result"
    }
   ],
   "source": [
    "future.tail()"
   ]
  },
  {
   "cell_type": "code",
   "execution_count": 69,
   "metadata": {},
   "outputs": [
    {
     "name": "stderr",
     "output_type": "stream",
     "text": [
      "<ipython-input-63-9fbe25707277>:4: SettingWithCopyWarning: \n",
      "A value is trying to be set on a copy of a slice from a DataFrame.\n",
      "Try using .loc[row_indexer,col_indexer] = value instead\n",
      "\n",
      "See the caveats in the documentation: https://pandas.pydata.org/pandas-docs/stable/user_guide/indexing.html#returning-a-view-versus-a-copy\n",
      "  pr_data['ds'] = pd.to_datetime(pr_data['ds'])\n",
      "INFO:fbprophet:Disabling daily seasonality. Run prophet with daily_seasonality=True to override this.\n"
     ]
    },
    {
     "data": {
      "image/png": "[encoded data removed]",
      "text/plain": [
       "<Figure size 720x432 with 1 Axes>"
      ]
     },
     "metadata": {},
     "output_type": "display_data"
    }
   ],
   "source": [
    "model, data_used = run_prophet(tmp_data, resample='D', mode='multiplicative')\n",
    "\n",
    "len_train = round(data_used.shape[0] * 0.75)\n",
    "len_test = len(data_used) - len_train\n",
    "train = data_used[:len_train]\n",
    "test = data_used[len_train:]\n",
    "\n",
    "\n",
    "model.fit(train)\n",
    "\n",
    "future = model.make_future_dataframe(periods=len_test)\n",
    "forecast = model.predict(future)\n",
    "fig1 = model.plot(forecast)"
   ]
  },
  {
   "cell_type": "code",
   "execution_count": 70,
   "metadata": {},
   "outputs": [
    {
     "data": {
      "text/plain": [
       "[<matplotlib.lines.Line2D at 0x7f78f0074340>]"
      ]
     },
     "execution_count": 70,
     "metadata": {},
     "output_type": "execute_result"
    },
    {
     "data": {
      "image/png": "[encoded data removed]",
      "text/plain": [
       "<Figure size 1440x720 with 1 Axes>"
      ]
     },
     "metadata": {
      "needs_background": "light"
     },
     "output_type": "display_data"
    }
   ],
   "source": [
    "plt.figure(figsize=(20,10))\n",
    "plt.plot(test['ds'], test['y'], color='green')\n",
    "plt.plot(forecast[len_train:]['ds'], forecast[len_train:]['yhat'], color='blue')"
   ]
  },
  {
   "cell_type": "code",
   "execution_count": 72,
   "metadata": {},
   "outputs": [
    {
     "name": "stderr",
     "output_type": "stream",
     "text": [
      "/home/samboi/Documents/repos/ml-data-analytics/env/lib/python3.8/site-packages/fbprophet/plot.py:422: UserWarning: FixedFormatter should only be used together with FixedLocator\n",
      "  ax.set_yticklabels(yticklabels)\n",
      "/home/samboi/Documents/repos/ml-data-analytics/env/lib/python3.8/site-packages/fbprophet/plot.py:422: UserWarning: FixedFormatter should only be used together with FixedLocator\n",
      "  ax.set_yticklabels(yticklabels)\n"
     ]
    },
    {
     "data": {
      "image/png": "[encoded data removed]",
      "text/plain": [
       "<Figure size 648x648 with 3 Axes>"
      ]
     },
     "execution_count": 72,
     "metadata": {},
     "output_type": "execute_result"
    },
    {
     "data": {
      "image/png": "[encoded data removed]",
      "text/plain": [
       "<Figure size 648x648 with 3 Axes>"
      ]
     },
     "metadata": {},
     "output_type": "display_data"
    }
   ],
   "source": [
    "model.plot_components(forecast)"
   ]
  },
  {
   "cell_type": "code",
   "execution_count": 60,
   "metadata": {},
   "outputs": [
    {
     "data": {
      "text/plain": [
       "4252     916.741452\n",
       "4253    1049.265955\n",
       "4254    1049.544254\n",
       "4255    1082.117222\n",
       "4256    1018.587191\n",
       "           ...     \n",
       "5665    2331.339542\n",
       "5666    2335.050494\n",
       "5667    2478.925570\n",
       "5668    2489.127578\n",
       "5669    2529.877198\n",
       "Name: yhat, Length: 1418, dtype: float64"
      ]
     },
     "execution_count": 60,
     "metadata": {},
     "output_type": "execute_result"
    }
   ],
   "source": [
    "forecast[len_train:]['yhat']"
   ]
  },
  {
   "cell_type": "code",
   "execution_count": 61,
   "metadata": {},
   "outputs": [
    {
     "name": "stdout",
     "output_type": "stream",
     "text": [
      "<class 'pandas.core.frame.DataFrame'>\n",
      "RangeIndex: 1418 entries, 4252 to 5669\n",
      "Data columns (total 2 columns):\n",
      " #   Column  Non-Null Count  Dtype         \n",
      "---  ------  --------------  -----         \n",
      " 0   ds      1418 non-null   datetime64[ns]\n",
      " 1   y       1418 non-null   float64       \n",
      "dtypes: datetime64[ns](1), float64(1)\n",
      "memory usage: 22.3 KB\n"
     ]
    }
   ],
   "source": [
    "test.info()"
   ]
  },
  {
   "cell_type": "markdown",
   "metadata": {
    "id": "gRFQrW2bzuDO"
   },
   "source": [
    "# Adjust data per Semester"
   ]
  },
  {
   "cell_type": "markdown",
   "metadata": {
    "id": "4kwBYBpj07J7"
   },
   "source": [
    "## Monthly Adjusted"
   ]
  },
  {
   "cell_type": "code",
   "execution_count": null,
   "metadata": {
    "id": "c2JZDBL109cS"
   },
   "outputs": [],
   "source": [
    "#%%timeit\n",
    "\n",
    "from datetime import datetime\n",
    "\n",
    "dataset_monthly = dataset\n",
    "\n",
    "for i, row in dataset_monthly.iterrows():\n",
    "    ifor_val = datetime.strptime(row['transaction_date'], '%m/%d/%Y').month\n",
    "    dataset_monthly.at[i,'month'] = ifor_val\n",
    "\n",
    "dataset_monthly.head()"
   ]
  },
  {
   "cell_type": "code",
   "execution_count": null,
   "metadata": {
    "id": "C8S7rw934S_Q"
   },
   "outputs": [],
   "source": [
    "#%%timeit\n",
    "\n",
    "dataset_monthly = dataset\n",
    "dataset_monthly['month'] = dataset_monthly.apply(lambda row: datetime.strptime(row['transaction_date'], '%m/%d/%Y').month, axis=1)\n",
    "dataset_monthly.head()"
   ]
  },
  {
   "cell_type": "code",
   "execution_count": 101,
   "metadata": {
    "colab": {
     "base_uri": "https://localhost:8080/",
     "height": 343
    },
    "id": "CFOLYQ_80T_a",
    "outputId": "25634f10-5a9d-405d-c069-3f12854bcd52"
   },
   "outputs": [
    {
     "data": {
      "text/html": [
       "<div>\n",
       "<style scoped>\n",
       "    .dataframe tbody tr th:only-of-type {\n",
       "        vertical-align: middle;\n",
       "    }\n",
       "\n",
       "    .dataframe tbody tr th {\n",
       "        vertical-align: top;\n",
       "    }\n",
       "\n",
       "    .dataframe thead th {\n",
       "        text-align: right;\n",
       "    }\n",
       "</style>\n",
       "<table border=\"1\" class=\"dataframe\">\n",
       "  <thead>\n",
       "    <tr style=\"text-align: right;\">\n",
       "      <th></th>\n",
       "      <th>vendor_name</th>\n",
       "      <th>transaction_date</th>\n",
       "      <th>transaction_amount</th>\n",
       "      <th>nif</th>\n",
       "      <th>fund</th>\n",
       "      <th>fund_desc</th>\n",
       "      <th>department</th>\n",
       "      <th>department_desc</th>\n",
       "      <th>object_code</th>\n",
       "      <th>account_description</th>\n",
       "      <th>invoice_number</th>\n",
       "      <th>month</th>\n",
       "      <th>biannual_period</th>\n",
       "    </tr>\n",
       "  </thead>\n",
       "  <tbody>\n",
       "    <tr>\n",
       "      <th>0</th>\n",
       "      <td>JANE KENNEDY</td>\n",
       "      <td>10/07/2020</td>\n",
       "      <td>78.88</td>\n",
       "      <td>51523032</td>\n",
       "      <td>2300</td>\n",
       "      <td>Recreation Activity</td>\n",
       "      <td>515</td>\n",
       "      <td>Parks and Recreation</td>\n",
       "      <td>710500</td>\n",
       "      <td>Business Travel</td>\n",
       "      <td>1000</td>\n",
       "      <td>10</td>\n",
       "      <td>1</td>\n",
       "    </tr>\n",
       "    <tr>\n",
       "      <th>1</th>\n",
       "      <td>PAMELA AUBRY</td>\n",
       "      <td>05/07/2020</td>\n",
       "      <td>41.40</td>\n",
       "      <td>13510010</td>\n",
       "      <td>1100</td>\n",
       "      <td>General</td>\n",
       "      <td>135</td>\n",
       "      <td>Municipal Court</td>\n",
       "      <td>710500</td>\n",
       "      <td>Business Travel</td>\n",
       "      <td>1001</td>\n",
       "      <td>5</td>\n",
       "      <td>0</td>\n",
       "    </tr>\n",
       "    <tr>\n",
       "      <th>2</th>\n",
       "      <td>DAVID SUTHERLAND</td>\n",
       "      <td>04/15/2020</td>\n",
       "      <td>88.55</td>\n",
       "      <td>55520270</td>\n",
       "      <td>2500</td>\n",
       "      <td>Open Space</td>\n",
       "      <td>555</td>\n",
       "      <td>Open Space &amp; Mountain Parks</td>\n",
       "      <td>710500</td>\n",
       "      <td>Business Travel</td>\n",
       "      <td>1002</td>\n",
       "      <td>4</td>\n",
       "      <td>0</td>\n",
       "    </tr>\n",
       "    <tr>\n",
       "      <th>3</th>\n",
       "      <td>JAMES C. BISH JR</td>\n",
       "      <td>02/19/2020</td>\n",
       "      <td>111.09</td>\n",
       "      <td>38020010</td>\n",
       "      <td>2120</td>\n",
       "      <td>Planning and Development Svc</td>\n",
       "      <td>380</td>\n",
       "      <td>PW-Development</td>\n",
       "      <td>710515</td>\n",
       "      <td>Empl Training</td>\n",
       "      <td>1003</td>\n",
       "      <td>2</td>\n",
       "      <td>0</td>\n",
       "    </tr>\n",
       "    <tr>\n",
       "      <th>4</th>\n",
       "      <td>JACOB ALBERT JACOBS</td>\n",
       "      <td>02/05/2020</td>\n",
       "      <td>852.60</td>\n",
       "      <td>51523020</td>\n",
       "      <td>2300</td>\n",
       "      <td>Recreation Activity</td>\n",
       "      <td>515</td>\n",
       "      <td>Parks and Recreation</td>\n",
       "      <td>710515</td>\n",
       "      <td>Empl Training</td>\n",
       "      <td>1004</td>\n",
       "      <td>2</td>\n",
       "      <td>0</td>\n",
       "    </tr>\n",
       "  </tbody>\n",
       "</table>\n",
       "</div>"
      ],
      "text/plain": [
       "           vendor_name transaction_date  ...  month  biannual_period\n",
       "0         JANE KENNEDY       10/07/2020  ...     10                1\n",
       "1         PAMELA AUBRY       05/07/2020  ...      5                0\n",
       "2     DAVID SUTHERLAND       04/15/2020  ...      4                0\n",
       "3     JAMES C. BISH JR       02/19/2020  ...      2                0\n",
       "4  JACOB ALBERT JACOBS       02/05/2020  ...      2                0\n",
       "\n",
       "[5 rows x 13 columns]"
      ]
     },
     "execution_count": 101,
     "metadata": {
      "tags": []
     },
     "output_type": "execute_result"
    }
   ],
   "source": [
    "#%%timeit\n",
    "# More efficient way\n",
    "\n",
    "dataset_monthly = dataset.copy()\n",
    "dataset_monthly['month'] = pd.to_datetime(dataset_monthly.transaction_date)\n",
    "dataset_monthly['month'] = dataset_monthly['month'].dt.strftime('%-m')\n",
    "dataset_monthly.head()"
   ]
  },
  {
   "cell_type": "markdown",
   "metadata": {
    "id": "LT7ubyzX5Lx_"
   },
   "source": [
    "## Biannual Adjusted"
   ]
  },
  {
   "cell_type": "markdown",
   "metadata": {
    "id": "aJ9aQAbv-g-v"
   },
   "source": [
    "May require more work, depending **if the biannual starts at different timings than the default and presumed** January 1st and July 1st."
   ]
  },
  {
   "cell_type": "code",
   "execution_count": 85,
   "metadata": {
    "colab": {
     "base_uri": "https://localhost:8080/",
     "height": 309
    },
    "id": "2LHPYhg-5Ny2",
    "outputId": "705376a7-f281-415f-c532-561a281db8cf"
   },
   "outputs": [
    {
     "data": {
      "text/html": [
       "<div>\n",
       "<style scoped>\n",
       "    .dataframe tbody tr th:only-of-type {\n",
       "        vertical-align: middle;\n",
       "    }\n",
       "\n",
       "    .dataframe tbody tr th {\n",
       "        vertical-align: top;\n",
       "    }\n",
       "\n",
       "    .dataframe thead th {\n",
       "        text-align: right;\n",
       "    }\n",
       "</style>\n",
       "<table border=\"1\" class=\"dataframe\">\n",
       "  <thead>\n",
       "    <tr style=\"text-align: right;\">\n",
       "      <th></th>\n",
       "      <th>vendor_name</th>\n",
       "      <th>transaction_date</th>\n",
       "      <th>transaction_amount</th>\n",
       "      <th>nif</th>\n",
       "      <th>fund</th>\n",
       "      <th>fund_desc</th>\n",
       "      <th>department</th>\n",
       "      <th>department_desc</th>\n",
       "      <th>object_code</th>\n",
       "      <th>account_description</th>\n",
       "      <th>invoice_number</th>\n",
       "      <th>month</th>\n",
       "      <th>biannual_period</th>\n",
       "    </tr>\n",
       "  </thead>\n",
       "  <tbody>\n",
       "    <tr>\n",
       "      <th>24431</th>\n",
       "      <td>FOOD TAX REBATE</td>\n",
       "      <td>09/24/2020</td>\n",
       "      <td>87.0</td>\n",
       "      <td>110000</td>\n",
       "      <td>1100</td>\n",
       "      <td>General</td>\n",
       "      <td>0</td>\n",
       "      <td>NaN</td>\n",
       "      <td>401130</td>\n",
       "      <td>Food Tax Refunds</td>\n",
       "      <td>25431</td>\n",
       "      <td>9</td>\n",
       "      <td>1</td>\n",
       "    </tr>\n",
       "    <tr>\n",
       "      <th>24432</th>\n",
       "      <td>FOOD TAX REBATE</td>\n",
       "      <td>09/28/2020</td>\n",
       "      <td>2456.0</td>\n",
       "      <td>110000</td>\n",
       "      <td>1100</td>\n",
       "      <td>General</td>\n",
       "      <td>0</td>\n",
       "      <td>NaN</td>\n",
       "      <td>401130</td>\n",
       "      <td>Food Tax Refunds</td>\n",
       "      <td>25432</td>\n",
       "      <td>9</td>\n",
       "      <td>1</td>\n",
       "    </tr>\n",
       "    <tr>\n",
       "      <th>24433</th>\n",
       "      <td>FOOD TAX REBATE</td>\n",
       "      <td>09/29/2020</td>\n",
       "      <td>526.0</td>\n",
       "      <td>110000</td>\n",
       "      <td>1100</td>\n",
       "      <td>General</td>\n",
       "      <td>0</td>\n",
       "      <td>NaN</td>\n",
       "      <td>401130</td>\n",
       "      <td>Food Tax Refunds</td>\n",
       "      <td>25433</td>\n",
       "      <td>9</td>\n",
       "      <td>1</td>\n",
       "    </tr>\n",
       "    <tr>\n",
       "      <th>24434</th>\n",
       "      <td>FOOD TAX REBATE</td>\n",
       "      <td>10/01/2020</td>\n",
       "      <td>2713.0</td>\n",
       "      <td>110000</td>\n",
       "      <td>1100</td>\n",
       "      <td>General</td>\n",
       "      <td>0</td>\n",
       "      <td>NaN</td>\n",
       "      <td>401130</td>\n",
       "      <td>Food Tax Refunds</td>\n",
       "      <td>25434</td>\n",
       "      <td>10</td>\n",
       "      <td>1</td>\n",
       "    </tr>\n",
       "    <tr>\n",
       "      <th>24435</th>\n",
       "      <td>FOOD TAX REBATE</td>\n",
       "      <td>10/05/2020</td>\n",
       "      <td>1313.0</td>\n",
       "      <td>110000</td>\n",
       "      <td>1100</td>\n",
       "      <td>General</td>\n",
       "      <td>0</td>\n",
       "      <td>NaN</td>\n",
       "      <td>401130</td>\n",
       "      <td>Food Tax Refunds</td>\n",
       "      <td>25435</td>\n",
       "      <td>10</td>\n",
       "      <td>1</td>\n",
       "    </tr>\n",
       "  </tbody>\n",
       "</table>\n",
       "</div>"
      ],
      "text/plain": [
       "                vendor_name transaction_date  ...  month  biannual_period\n",
       "24431  FOOD TAX REBATE            09/24/2020  ...      9                1\n",
       "24432  FOOD TAX REBATE            09/28/2020  ...      9                1\n",
       "24433  FOOD TAX REBATE            09/29/2020  ...      9                1\n",
       "24434  FOOD TAX REBATE            10/01/2020  ...     10                1\n",
       "24435  FOOD TAX REBATE            10/05/2020  ...     10                1\n",
       "\n",
       "[5 rows x 13 columns]"
      ]
     },
     "execution_count": 85,
     "metadata": {
      "tags": []
     },
     "output_type": "execute_result"
    }
   ],
   "source": [
    "dataset_biannual = dataset.copy()\n",
    "dataset_biannual['biannual_period'] = pd.to_datetime(dataset_biannual.transaction_date)\n",
    "dataset_biannual['biannual_period'] = dataset_biannual['biannual_period'].dt.strftime('%-m')\n",
    "dataset_biannual['biannual_period'] = dataset_biannual.apply(lambda row: 0 if int(row['biannual_period']) <= 5 else 1, axis=1)\n",
    "dataset_biannual.tail()"
   ]
  },
  {
   "cell_type": "markdown",
   "metadata": {
    "id": "hzckB33DE8BY"
   },
   "source": [
    "## Quartely Adjusted"
   ]
  },
  {
   "cell_type": "markdown",
   "metadata": {
    "id": "hloSYytoFDbn"
   },
   "source": [
    "Same rule as before applies. If the timelines are different than the standard, the conditions must be updated."
   ]
  },
  {
   "cell_type": "code",
   "execution_count": null,
   "metadata": {
    "id": "nPAWROfsE_xu"
   },
   "outputs": [],
   "source": [
    "def quaterly_adjust(row):\n",
    "  m = int(row['quarterly_period'])\n",
    "  if m <= 2:\n",
    "    return 0\n",
    "  elif m <= 5:\n",
    "    return 1\n",
    "  elif m <= 8:\n",
    "    return 2\n",
    "  else:\n",
    "    return 3\n",
    "  \n",
    "dataset_quarterly = dataset.copy()\n",
    "dataset_quarterly['quarterly_period'] = pd.to_datetime(dataset_quarterly.transaction_date)\n",
    "dataset_quarterly['quarterly_period'] = dataset_quarterly['quarterly_period'].dt.strftime('%-m')\n",
    "dataset_quarterly['quarterly_period'] = dataset_quarterly.apply(quaterly_adjust, axis=1)\n",
    "dataset_quarterly.head()"
   ]
  },
  {
   "cell_type": "markdown",
   "metadata": {
    "id": "0mhamUPXMdg4"
   },
   "source": [
    "## Yearly Adjusted"
   ]
  },
  {
   "cell_type": "markdown",
   "metadata": {
    "id": "S6CBerslMigI"
   },
   "source": [
    "Depends on previous data, we must think first what we want to display."
   ]
  },
  {
   "cell_type": "markdown",
   "metadata": {
    "id": "SOvac5AJyNXs"
   },
   "source": [
    "# Show sector more/less profitable"
   ]
  },
  {
   "cell_type": "code",
   "execution_count": 17,
   "metadata": {
    "colab": {
     "base_uri": "https://localhost:8080/",
     "height": 51
    },
    "id": "8jpipmyye5My",
    "outputId": "2a72c5d8-f96a-4849-edba-28a41bf1b745"
   },
   "outputs": [
    {
     "name": "stdout",
     "output_type": "stream",
     "text": [
      "29\n",
      "29\n"
     ]
    }
   ],
   "source": [
    "#Show sector more/less profitable\n",
    "## More profitable\n",
    "print(len(dataset['department_desc'].unique().tolist()))\n",
    "print(len(dataset['department'].unique().tolist()))"
   ]
  },
  {
   "cell_type": "code",
   "execution_count": null,
   "metadata": {
    "id": "m76lzxjvxGS-"
   },
   "outputs": [],
   "source": [
    "tmp = dataset[['department_desc','transaction_amount']]\n",
    "tmp = tmp.fillna('Other')\n",
    "tmp"
   ]
  },
  {
   "cell_type": "code",
   "execution_count": null,
   "metadata": {
    "id": "ySL930DEyTFZ"
   },
   "outputs": [],
   "source": [
    "tmp = tmp.groupby('department_desc').sum()\n",
    "tmp.sort_values(by='transaction_amount', ascending=False)"
   ]
  },
  {
   "cell_type": "markdown",
   "metadata": {
    "id": "eWdCFNjtM5Jk"
   },
   "source": [
    "# Earnings, Costs, Profits, Losses"
   ]
  },
  {
   "cell_type": "code",
   "execution_count": 110,
   "metadata": {
    "colab": {
     "base_uri": "https://localhost:8080/",
     "height": 34
    },
    "id": "CnjqjpQOTSRp",
    "outputId": "2b0aa17b-e4ec-4a1a-966b-c14f576e94e6"
   },
   "outputs": [
    {
     "name": "stdout",
     "output_type": "stream",
     "text": [
      "197816147.59999996 , -176434.49999999997 , 197992582.09999996\n"
     ]
    }
   ],
   "source": [
    "earnings = dataset[dataset['transaction_amount'] > 0]['transaction_amount'].sum()\n",
    "costs = dataset[dataset['transaction_amount'] < 0]['transaction_amount'].sum()\n",
    "\n",
    "profits_losses = earnings - costs\n",
    "print(earnings, costs, profits, sep=' , ')"
   ]
  },
  {
   "cell_type": "markdown",
   "metadata": {
    "id": "Hw5G5igXUc1Q"
   },
   "source": [
    "# Proportion of Sectors of action"
   ]
  },
  {
   "cell_type": "code",
   "execution_count": null,
   "metadata": {
    "id": "Ql5WkF3NUZHO"
   },
   "outputs": [],
   "source": [
    "dataset['fund_desc'].unique()"
   ]
  },
  {
   "cell_type": "code",
   "execution_count": 126,
   "metadata": {
    "colab": {
     "base_uri": "https://localhost:8080/",
     "height": 235
    },
    "id": "8mWbmV7aUzZw",
    "outputId": "8ddd0e35-8d55-4253-cc26-a0a7f5a6e9dc"
   },
   "outputs": [
    {
     "data": {
      "text/html": [
       "<div>\n",
       "<style scoped>\n",
       "    .dataframe tbody tr th:only-of-type {\n",
       "        vertical-align: middle;\n",
       "    }\n",
       "\n",
       "    .dataframe tbody tr th {\n",
       "        vertical-align: top;\n",
       "    }\n",
       "\n",
       "    .dataframe thead th {\n",
       "        text-align: right;\n",
       "    }\n",
       "</style>\n",
       "<table border=\"1\" class=\"dataframe\">\n",
       "  <thead>\n",
       "    <tr style=\"text-align: right;\">\n",
       "      <th></th>\n",
       "      <th>n_invoices</th>\n",
       "    </tr>\n",
       "    <tr>\n",
       "      <th>fund_desc</th>\n",
       "      <th></th>\n",
       "    </tr>\n",
       "  </thead>\n",
       "  <tbody>\n",
       "    <tr>\n",
       "      <th>.25 Cent Sales Tax</th>\n",
       "      <td>1206</td>\n",
       "    </tr>\n",
       "    <tr>\n",
       "      <th>2011 Capital Improvement Bond</th>\n",
       "      <td>5</td>\n",
       "    </tr>\n",
       "    <tr>\n",
       "      <th>Affordable Housing</th>\n",
       "      <td>124</td>\n",
       "    </tr>\n",
       "    <tr>\n",
       "      <th>Airport</th>\n",
       "      <td>139</td>\n",
       "    </tr>\n",
       "    <tr>\n",
       "      <th>BMPA Debt Service</th>\n",
       "      <td>1</td>\n",
       "    </tr>\n",
       "  </tbody>\n",
       "</table>\n",
       "</div>"
      ],
      "text/plain": [
       "                               n_invoices\n",
       "fund_desc                                \n",
       ".25 Cent Sales Tax                   1206\n",
       "2011 Capital Improvement Bond           5\n",
       "Affordable Housing                    124\n",
       "Airport                               139\n",
       "BMPA Debt Service                       1"
      ]
     },
     "execution_count": 126,
     "metadata": {
      "tags": []
     },
     "output_type": "execute_result"
    }
   ],
   "source": [
    "tmp = dataset[['transaction_amount','fund_desc']]\n",
    "tmp = tmp.groupby('fund_desc').count()\n",
    "tmp.columns = ['n_invoices']\n",
    "tmp.head()\n",
    "#tmp.plot.pie(y='n_invoices', autopct=\"%.1f%%\");"
   ]
  },
  {
   "cell_type": "markdown",
   "metadata": {
    "id": "HAuVsjkeXzWj"
   },
   "source": [
    "# Top Clients"
   ]
  },
  {
   "cell_type": "code",
   "execution_count": 136,
   "metadata": {
    "colab": {
     "base_uri": "https://localhost:8080/",
     "height": 235
    },
    "id": "vpLi2WavX66p",
    "outputId": "4833bad6-b117-455d-f17c-bd95cd2f00a8"
   },
   "outputs": [
    {
     "data": {
      "text/html": [
       "<div>\n",
       "<style scoped>\n",
       "    .dataframe tbody tr th:only-of-type {\n",
       "        vertical-align: middle;\n",
       "    }\n",
       "\n",
       "    .dataframe tbody tr th {\n",
       "        vertical-align: top;\n",
       "    }\n",
       "\n",
       "    .dataframe thead th {\n",
       "        text-align: right;\n",
       "    }\n",
       "</style>\n",
       "<table border=\"1\" class=\"dataframe\">\n",
       "  <thead>\n",
       "    <tr style=\"text-align: right;\">\n",
       "      <th></th>\n",
       "      <th>n_invoices</th>\n",
       "    </tr>\n",
       "    <tr>\n",
       "      <th>vendor_name</th>\n",
       "      <th></th>\n",
       "    </tr>\n",
       "  </thead>\n",
       "  <tbody>\n",
       "    <tr>\n",
       "      <th>PCARD ONETIME VENDOR</th>\n",
       "      <td>2848</td>\n",
       "    </tr>\n",
       "    <tr>\n",
       "      <th>XCEL ENERGY</th>\n",
       "      <td>892</td>\n",
       "    </tr>\n",
       "    <tr>\n",
       "      <th>MCGUCKIN HARDWARE</th>\n",
       "      <td>722</td>\n",
       "    </tr>\n",
       "    <tr>\n",
       "      <th>HOME DEPOT USA INC</th>\n",
       "      <td>619</td>\n",
       "    </tr>\n",
       "    <tr>\n",
       "      <th>CENTURYLINK</th>\n",
       "      <td>355</td>\n",
       "    </tr>\n",
       "  </tbody>\n",
       "</table>\n",
       "</div>"
      ],
      "text/plain": [
       "                      n_invoices\n",
       "vendor_name                     \n",
       "PCARD ONETIME VENDOR        2848\n",
       "XCEL ENERGY                  892\n",
       "MCGUCKIN HARDWARE            722\n",
       "HOME DEPOT USA INC           619\n",
       "CENTURYLINK                  355"
      ]
     },
     "execution_count": 136,
     "metadata": {
      "tags": []
     },
     "output_type": "execute_result"
    }
   ],
   "source": [
    "tmp = dataset[['vendor_name','nif']]\n",
    "tmp = tmp.groupby('vendor_name').count()\n",
    "tmp.columns = ['n_invoices']\n",
    "tmp = tmp.sort_values(by='n_invoices', ascending=False)\n",
    "tmp.head()"
   ]
  }
 ],
 "metadata": {
  "colab": {
   "collapsed_sections": [
    "EOzEGshUNbnu",
    "gRFQrW2bzuDO",
    "4kwBYBpj07J7",
    "LT7ubyzX5Lx_",
    "hzckB33DE8BY",
    "0mhamUPXMdg4",
    "SOvac5AJyNXs",
    "eWdCFNjtM5Jk",
    "Hw5G5igXUc1Q",
    "HAuVsjkeXzWj"
   ],
   "name": "Dataset Manipulation Prototype.ipynb",
   "provenance": []
  },
  "kernelspec": {
   "display_name": "Python 3",
   "language": "python",
   "name": "python3"
  },
  "language_info": {
   "codemirror_mode": {
    "name": "ipython",
    "version": 3
   },
   "file_extension": ".py",
   "mimetype": "text/x-python",
   "name": "python",
   "nbconvert_exporter": "python",
   "pygments_lexer": "ipython3",
   "version": "3.8.5"
  }
 },
 "nbformat": 4,
 "nbformat_minor": 1
}
